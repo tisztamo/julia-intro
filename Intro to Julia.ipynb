{
 "cells": [
  {
   "cell_type": "code",
   "execution_count": 1,
   "metadata": {
    "slideshow": {
     "slide_type": "skip"
    }
   },
   "outputs": [
    {
     "name": "stderr",
     "output_type": "stream",
     "text": [
      "\u001b[32m\u001b[1m Activating\u001b[22m\u001b[39m environment at `C:\\projects\\julia-intro2\\Project.toml`\n"
     ]
    }
   ],
   "source": [
    "using Pkg\n",
    "Pkg.activate(\".\")\n",
    "Pkg.instantiate()"
   ]
  },
  {
   "cell_type": "markdown",
   "metadata": {
    "slideshow": {
     "slide_type": "slide"
    }
   },
   "source": [
    "# Intro to Julia\n",
    "\n",
    "## Krisztián Schäffer\n",
    "\n",
    "This is a fork of the notebook created by Robin Deits (Detroit Tech Watch May 26, 2020) https://tinyurl.com/tech-watch-julia [1]\n",
    "\n",
    "[1] https://github.com/rdeits/DetroitTechWatch2020.jl/blob/master/Intro%20to%20Julia.ipynb"
   ]
  },
  {
   "cell_type": "markdown",
   "metadata": {
    "slideshow": {
     "slide_type": "slide"
    }
   },
   "source": [
    "# Overview\n",
    "\n",
    "* What is Julia?\n",
    "* Tour of Julia\n",
    "  * Functions, types, multiple dispatch\n",
    "* Julia is fast! \n",
    "  * Benchmarks\n",
    "* Bonus Features of Julia\n",
    "  * Async tasks, multiprocessing, and metaprogramming\n",
    "* What's hard to do in Julia?\n",
    "* Essential Julia packages and tools"
   ]
  },
  {
   "cell_type": "markdown",
   "metadata": {
    "slideshow": {
     "slide_type": "slide"
    }
   },
   "source": [
    "# What is Julia\n",
    "\n",
    "<https://docs.julialang.org/en/v1/>\n",
    "\n",
    "* Julia is a dynamic language like Python with the performance of a fast language like C\n",
    "* Julia is a great choice for scientific computing, with:\n",
    "  * Excellent performance\n",
    "  * N-dimensional arrays\n",
    "  * Parallel and distributed computing\n",
    "* And it's also a nice environment for general purpose programming, with:\n",
    "  * An active ecosystem of packages and good tools for managing them\n",
    "  * A rich type system\n",
    "  * Iterators, asynchronous tasks, metaprogramming, etc.\n"
   ]
  },
  {
   "cell_type": "markdown",
   "metadata": {
    "slideshow": {
     "slide_type": "subslide"
    }
   },
   "source": [
    "# Julia at a Glance\n",
    "\n",
    "* First public release in 2012, version 1.0 released in 2018\n",
    "* Free\n",
    "    * Julia itself is BSD licensed\n",
    "    * It bundles some GPLed libraries (which can be disabled if desired)\n",
    "* Built-in ~~JIT~~ JAOT compiler transforms Julia code to native assembly at run time\n",
    "  * Uses LLVM under the hood\n",
    "* Garbage collected\n",
    "* Dynamically typed\n",
    "* Organized via multiple dispatch"
   ]
  },
  {
   "cell_type": "markdown",
   "metadata": {
    "slideshow": {
     "slide_type": "slide"
    }
   },
   "source": [
    "# A Tour of Julia"
   ]
  },
  {
   "cell_type": "markdown",
   "metadata": {
    "slideshow": {
     "slide_type": "subslide"
    }
   },
   "source": [
    "##  The Basics"
   ]
  },
  {
   "cell_type": "markdown",
   "metadata": {
    "slideshow": {
     "slide_type": "fragment"
    }
   },
   "source": [
    "Arithmetic:"
   ]
  },
  {
   "cell_type": "code",
   "execution_count": 2,
   "metadata": {
    "slideshow": {
     "slide_type": "-"
    }
   },
   "outputs": [
    {
     "data": {
      "text/plain": [
       "4"
      ]
     },
     "execution_count": 2,
     "metadata": {},
     "output_type": "execute_result"
    }
   ],
   "source": [
    "2 + 2"
   ]
  },
  {
   "cell_type": "markdown",
   "metadata": {
    "slideshow": {
     "slide_type": "fragment"
    }
   },
   "source": [
    "Strings:"
   ]
  },
  {
   "cell_type": "code",
   "execution_count": 3,
   "metadata": {
    "slideshow": {
     "slide_type": "-"
    }
   },
   "outputs": [
    {
     "name": "stdout",
     "output_type": "stream",
     "text": [
      "hello world\n"
     ]
    }
   ],
   "source": [
    "# Strings\n",
    "println(\"hello world\")"
   ]
  },
  {
   "cell_type": "markdown",
   "metadata": {
    "slideshow": {
     "slide_type": "fragment"
    }
   },
   "source": [
    "Arrays:"
   ]
  },
  {
   "cell_type": "code",
   "execution_count": 4,
   "metadata": {
    "slideshow": {
     "slide_type": "-"
    }
   },
   "outputs": [
    {
     "data": {
      "text/plain": [
       "4-element Array{Int64,1}:\n",
       " 1\n",
       " 2\n",
       " 3\n",
       " 4"
      ]
     },
     "execution_count": 4,
     "metadata": {},
     "output_type": "execute_result"
    }
   ],
   "source": [
    "x = [1, 2, 3, 4]"
   ]
  },
  {
   "cell_type": "markdown",
   "metadata": {
    "slideshow": {
     "slide_type": "subslide"
    }
   },
   "source": [
    "## Functions"
   ]
  },
  {
   "cell_type": "code",
   "execution_count": 5,
   "metadata": {},
   "outputs": [
    {
     "data": {
      "text/plain": [
       "say_hello (generic function with 1 method)"
      ]
     },
     "execution_count": 5,
     "metadata": {},
     "output_type": "execute_result"
    }
   ],
   "source": [
    "function say_hello(name)\n",
    "    println(\"hello \", name)\n",
    "end"
   ]
  },
  {
   "cell_type": "code",
   "execution_count": 6,
   "metadata": {
    "slideshow": {
     "slide_type": "fragment"
    }
   },
   "outputs": [
    {
     "name": "stdout",
     "output_type": "stream",
     "text": [
      "hello world\n"
     ]
    }
   ],
   "source": [
    "say_hello(\"world\")"
   ]
  },
  {
   "cell_type": "markdown",
   "metadata": {
    "slideshow": {
     "slide_type": "fragment"
    }
   },
   "source": [
    "By default, a function is generic, so you can pass in any type you want:"
   ]
  },
  {
   "cell_type": "code",
   "execution_count": 7,
   "metadata": {},
   "outputs": [
    {
     "name": "stdout",
     "output_type": "stream",
     "text": [
      "hello [1, 2, 3]\n"
     ]
    }
   ],
   "source": [
    "say_hello([1, 2, 3])"
   ]
  },
  {
   "cell_type": "markdown",
   "metadata": {
    "slideshow": {
     "slide_type": "subslide"
    }
   },
   "source": [
    "## Types\n",
    "\n",
    "Every value in Julia has a type:"
   ]
  },
  {
   "cell_type": "code",
   "execution_count": 8,
   "metadata": {},
   "outputs": [
    {
     "data": {
      "text/plain": [
       "Float64"
      ]
     },
     "execution_count": 8,
     "metadata": {},
     "output_type": "execute_result"
    }
   ],
   "source": [
    "typeof(1.0)"
   ]
  },
  {
   "cell_type": "code",
   "execution_count": 9,
   "metadata": {
    "slideshow": {
     "slide_type": "fragment"
    }
   },
   "outputs": [
    {
     "data": {
      "text/plain": [
       "Int64"
      ]
     },
     "execution_count": 9,
     "metadata": {},
     "output_type": "execute_result"
    }
   ],
   "source": [
    "typeof(1)"
   ]
  },
  {
   "cell_type": "code",
   "execution_count": 10,
   "metadata": {
    "slideshow": {
     "slide_type": "fragment"
    }
   },
   "outputs": [
    {
     "data": {
      "text/plain": [
       "Irrational{:π}"
      ]
     },
     "execution_count": 10,
     "metadata": {},
     "output_type": "execute_result"
    }
   ],
   "source": [
    "typeof(π)"
   ]
  },
  {
   "cell_type": "code",
   "execution_count": 11,
   "metadata": {
    "slideshow": {
     "slide_type": "fragment"
    }
   },
   "outputs": [
    {
     "data": {
      "text/plain": [
       "Array{Int64,1}"
      ]
     },
     "execution_count": 11,
     "metadata": {},
     "output_type": "execute_result"
    }
   ],
   "source": [
    "typeof([1, 2, 3])"
   ]
  },
  {
   "cell_type": "markdown",
   "metadata": {
    "slideshow": {
     "slide_type": "subslide"
    }
   },
   "source": [
    "You can create your own types to organize your data:"
   ]
  },
  {
   "cell_type": "code",
   "execution_count": 12,
   "metadata": {},
   "outputs": [
    {
     "data": {
      "text/plain": [
       "Person(\"Alice\")"
      ]
     },
     "execution_count": 12,
     "metadata": {},
     "output_type": "execute_result"
    }
   ],
   "source": [
    "struct Person\n",
    "  name::String\n",
    "end\n",
    "\n",
    "alice = Person(\"Alice\")"
   ]
  },
  {
   "cell_type": "markdown",
   "metadata": {
    "slideshow": {
     "slide_type": "fragment"
    }
   },
   "source": [
    "Julia's types are extremely lightweight, and user-defined types are *exactly* as performant as anything built-in:"
   ]
  },
  {
   "cell_type": "code",
   "execution_count": 13,
   "metadata": {},
   "outputs": [
    {
     "data": {
      "text/plain": [
       "true"
      ]
     },
     "execution_count": 13,
     "metadata": {},
     "output_type": "execute_result"
    }
   ],
   "source": [
    "sizeof(Person) == sizeof(Ptr{String})"
   ]
  },
  {
   "cell_type": "markdown",
   "metadata": {
    "slideshow": {
     "slide_type": "slide"
    }
   },
   "source": [
    "## Multiple Dispatch\n",
    "\n",
    "Julia does not have classes like Java, Python, or C++. Instead, code is organized around *multiple dispatch*, where the compiler chooses the appropriate method of a given function based on the types of *all* of its input arguments. \n",
    "\n",
    "For more, see: [The Unreasonable Effectiveness of Multiple Dispatch (Stefan Karpinski, JuliaCon 2019)](https://www.youtube.com/watch?v=kc9HwsxE1OY)"
   ]
  },
  {
   "cell_type": "code",
   "execution_count": 14,
   "metadata": {
    "slideshow": {
     "slide_type": "subslide"
    }
   },
   "outputs": [
    {
     "data": {
      "text/plain": [
       "greet (generic function with 1 method)"
      ]
     },
     "execution_count": 14,
     "metadata": {},
     "output_type": "execute_result"
    }
   ],
   "source": [
    "greet(x, y) = println(\"$x greets $y\")"
   ]
  },
  {
   "cell_type": "code",
   "execution_count": 15,
   "metadata": {
    "slideshow": {
     "slide_type": "fragment"
    }
   },
   "outputs": [
    {
     "name": "stdout",
     "output_type": "stream",
     "text": [
      "Person(\"alice\") greets Person(\"bob\")\n"
     ]
    }
   ],
   "source": [
    "alice = Person(\"alice\")\n",
    "bob = Person(\"bob\")\n",
    "\n",
    "greet(alice, bob)"
   ]
  },
  {
   "cell_type": "markdown",
   "metadata": {
    "slideshow": {
     "slide_type": "fragment"
    }
   },
   "source": [
    "Currently there is only one `greet()` function, and it will work on `x` and `y` of any type:"
   ]
  },
  {
   "cell_type": "code",
   "execution_count": 16,
   "metadata": {},
   "outputs": [
    {
     "name": "stdout",
     "output_type": "stream",
     "text": [
      "[1, 2, 3] greets hello world\n"
     ]
    }
   ],
   "source": [
    "greet([1, 2, 3], \"hello world\")"
   ]
  },
  {
   "cell_type": "markdown",
   "metadata": {
    "slideshow": {
     "slide_type": "subslide"
    }
   },
   "source": [
    "We can use abstract types to organize the behavior of related types:"
   ]
  },
  {
   "cell_type": "code",
   "execution_count": 17,
   "metadata": {},
   "outputs": [],
   "source": [
    "abstract type Animal end\n",
    "\n",
    "struct Cat <: Animal\n",
    "    name::String\n",
    "end"
   ]
  },
  {
   "cell_type": "markdown",
   "metadata": {
    "slideshow": {
     "slide_type": "fragment"
    }
   },
   "source": [
    "We've already defined `greet(x, y)` for any `x` and `y`, but we can add another definition for a more specific set of input types.\n",
    "\n",
    "We can be as specific or as general as we like with the argument types:"
   ]
  },
  {
   "cell_type": "code",
   "execution_count": 18,
   "metadata": {},
   "outputs": [
    {
     "data": {
      "text/plain": [
       "greet (generic function with 2 methods)"
      ]
     },
     "execution_count": 18,
     "metadata": {},
     "output_type": "execute_result"
    }
   ],
   "source": [
    "greet(x::Person, y::Animal) = println(\"$x pats $y\")"
   ]
  },
  {
   "cell_type": "code",
   "execution_count": 19,
   "metadata": {
    "slideshow": {
     "slide_type": "fragment"
    }
   },
   "outputs": [
    {
     "data": {
      "text/plain": [
       "greet (generic function with 3 methods)"
      ]
     },
     "execution_count": 19,
     "metadata": {},
     "output_type": "execute_result"
    }
   ],
   "source": [
    "greet(x::Cat, y) = println(\"$x meows at $y\")"
   ]
  },
  {
   "cell_type": "markdown",
   "metadata": {
    "slideshow": {
     "slide_type": "subslide"
    }
   },
   "source": [
    "Julia will always pick the *most specific* method that matches the provided function arguments."
   ]
  },
  {
   "cell_type": "code",
   "execution_count": 20,
   "metadata": {},
   "outputs": [
    {
     "name": "stdout",
     "output_type": "stream",
     "text": [
      "Person(\"alice\") pats Cat(\"fluffy\")\n"
     ]
    }
   ],
   "source": [
    "fluffy = Cat(\"fluffy\")\n",
    "\n",
    "greet(alice, fluffy)"
   ]
  },
  {
   "cell_type": "code",
   "execution_count": 21,
   "metadata": {
    "slideshow": {
     "slide_type": "fragment"
    }
   },
   "outputs": [
    {
     "name": "stdout",
     "output_type": "stream",
     "text": [
      "Cat(\"fluffy\") meows at Person(\"alice\")\n"
     ]
    }
   ],
   "source": [
    "greet(fluffy, alice)"
   ]
  },
  {
   "cell_type": "code",
   "execution_count": 22,
   "metadata": {
    "slideshow": {
     "slide_type": "subslide"
    }
   },
   "outputs": [
    {
     "data": {
      "text/plain": [
       "greet (generic function with 6 methods)"
      ]
     },
     "execution_count": 22,
     "metadata": {},
     "output_type": "execute_result"
    }
   ],
   "source": [
    "struct Dog <: Animal\n",
    "    name::String\n",
    "end\n",
    "\n",
    "greet(x::Dog, y) = println(\"$x barks at $y\")\n",
    "\n",
    "greet(x::Dog, y::Person) = println(\"$x licks $y's face\")\n",
    "\n",
    "greet(x::Dog, y::Dog) = println(\"$x sniffs $y's butt\")"
   ]
  },
  {
   "cell_type": "code",
   "execution_count": 23,
   "metadata": {
    "slideshow": {
     "slide_type": "fragment"
    }
   },
   "outputs": [
    {
     "name": "stdout",
     "output_type": "stream",
     "text": [
      "Person(\"alice\") pats Dog(\"fido\")\n"
     ]
    }
   ],
   "source": [
    "fido = Dog(\"fido\")\n",
    "rex = Dog(\"rex\")\n",
    "\n",
    "greet(alice, fido)"
   ]
  },
  {
   "cell_type": "code",
   "execution_count": 24,
   "metadata": {
    "slideshow": {
     "slide_type": "fragment"
    }
   },
   "outputs": [
    {
     "name": "stdout",
     "output_type": "stream",
     "text": [
      "Dog(\"fido\") barks at Cat(\"fluffy\")\n"
     ]
    }
   ],
   "source": [
    "greet(fido, fluffy)"
   ]
  },
  {
   "cell_type": "code",
   "execution_count": 25,
   "metadata": {
    "slideshow": {
     "slide_type": "fragment"
    }
   },
   "outputs": [
    {
     "name": "stdout",
     "output_type": "stream",
     "text": [
      "Dog(\"fido\") licks Person(\"bob\")'s face\n"
     ]
    }
   ],
   "source": [
    "greet(fido, bob)"
   ]
  },
  {
   "cell_type": "code",
   "execution_count": 26,
   "metadata": {
    "slideshow": {
     "slide_type": "fragment"
    }
   },
   "outputs": [
    {
     "name": "stdout",
     "output_type": "stream",
     "text": [
      "Dog(\"fido\") sniffs Dog(\"rex\")'s butt\n"
     ]
    }
   ],
   "source": [
    "greet(fido, rex)"
   ]
  },
  {
   "cell_type": "markdown",
   "metadata": {
    "slideshow": {
     "slide_type": "subslide"
    }
   },
   "source": [
    "If you want to know which `greet` method will be called for a given set of arguments, you can use `@which` to check:"
   ]
  },
  {
   "cell_type": "code",
   "execution_count": 27,
   "metadata": {},
   "outputs": [
    {
     "data": {
      "text/html": [
       "greet(x::<b>Dog</b>, y) in Main at In[22]:5"
      ],
      "text/plain": [
       "greet(x::Dog, y) in Main at In[22]:5"
      ]
     },
     "execution_count": 27,
     "metadata": {},
     "output_type": "execute_result"
    }
   ],
   "source": [
    "@which greet(fido, fluffy)"
   ]
  },
  {
   "cell_type": "markdown",
   "metadata": {
    "slideshow": {
     "slide_type": "fragment"
    }
   },
   "source": [
    "You can list all of the methods of a given function with `methods`:"
   ]
  },
  {
   "cell_type": "code",
   "execution_count": 28,
   "metadata": {},
   "outputs": [
    {
     "data": {
      "text/html": [
       "# 6 methods for generic function <b>greet</b>:<ul><li> greet(x::<b>Dog</b>, y::<b>Dog</b>) in Main at In[22]:9</li> <li> greet(x::<b>Dog</b>, y::<b>Person</b>) in Main at In[22]:7</li> <li> greet(x::<b>Person</b>, y::<b>Animal</b>) in Main at In[18]:1</li> <li> greet(x::<b>Cat</b>, y) in Main at In[19]:1</li> <li> greet(x::<b>Dog</b>, y) in Main at In[22]:5</li> <li> greet(x, y) in Main at In[14]:1</li> </ul>"
      ],
      "text/plain": [
       "# 6 methods for generic function \"greet\":\n",
       "[1] greet(x::Dog, y::Dog) in Main at In[22]:9\n",
       "[2] greet(x::Dog, y::Person) in Main at In[22]:7\n",
       "[3] greet(x::Person, y::Animal) in Main at In[18]:1\n",
       "[4] greet(x::Cat, y) in Main at In[19]:1\n",
       "[5] greet(x::Dog, y) in Main at In[22]:5\n",
       "[6] greet(x, y) in Main at In[14]:1"
      ]
     },
     "execution_count": 28,
     "metadata": {},
     "output_type": "execute_result"
    }
   ],
   "source": [
    "methods(greet)"
   ]
  },
  {
   "cell_type": "markdown",
   "metadata": {},
   "source": [
    "It is possible to extend a function with methods later:"
   ]
  },
  {
   "cell_type": "code",
   "execution_count": 29,
   "metadata": {},
   "outputs": [
    {
     "data": {
      "text/plain": [
       "greet (generic function with 7 methods)"
      ]
     },
     "execution_count": 29,
     "metadata": {},
     "output_type": "execute_result"
    }
   ],
   "source": [
    "greet(x::Dog, y::Cat) = println(\"$x barks at $y\")"
   ]
  },
  {
   "cell_type": "code",
   "execution_count": 30,
   "metadata": {},
   "outputs": [
    {
     "data": {
      "text/html": [
       "greet(x::<b>Dog</b>, y::<b>Cat</b>) in Main at In[29]:1"
      ],
      "text/plain": [
       "greet(x::Dog, y::Cat) in Main at In[29]:1"
      ]
     },
     "execution_count": 30,
     "metadata": {},
     "output_type": "execute_result"
    }
   ],
   "source": [
    "@which greet(fido, fluffy)"
   ]
  },
  {
   "cell_type": "markdown",
   "metadata": {
    "slideshow": {
     "slide_type": "subslide"
    }
   },
   "source": [
    "## Using Packages\n",
    "\n",
    "Julia has a built-in package manager called `Pkg`. It handles installing packages and managing all your package environments. "
   ]
  },
  {
   "cell_type": "markdown",
   "metadata": {
    "slideshow": {
     "slide_type": "fragment"
    }
   },
   "source": [
    "A package *environment* represents a single set of installed packages. Let's activate the environment for this talk:"
   ]
  },
  {
   "cell_type": "code",
   "execution_count": 31,
   "metadata": {},
   "outputs": [
    {
     "name": "stderr",
     "output_type": "stream",
     "text": [
      "\u001b[32m\u001b[1m Activating\u001b[22m\u001b[39m environment at `C:\\projects\\julia-intro2\\Project.toml`\n"
     ]
    }
   ],
   "source": [
    "using Pkg\n",
    "Pkg.activate(\".\")"
   ]
  },
  {
   "cell_type": "markdown",
   "metadata": {},
   "source": [
    "(this is similar to `source venv/bin/activate` in a Python virtual environment)"
   ]
  },
  {
   "cell_type": "markdown",
   "metadata": {
    "slideshow": {
     "slide_type": "subslide"
    }
   },
   "source": [
    "We can install a package in our current environment. This will only affect that environment, so we can safely do this without breaking any other Julia projects we might be working on:"
   ]
  },
  {
   "cell_type": "code",
   "execution_count": 32,
   "metadata": {},
   "outputs": [
    {
     "name": "stderr",
     "output_type": "stream",
     "text": [
      "\u001b[32m\u001b[1m   Updating\u001b[22m\u001b[39m registry at `C:\\Users\\Schäffer Krisztián\\.julia\\registries\\General`"
     ]
    },
    {
     "name": "stdout",
     "output_type": "stream",
     "text": [
      "\u001b[?25l"
     ]
    },
    {
     "name": "stderr",
     "output_type": "stream",
     "text": [
      "\n",
      "\u001b[32m\u001b[1m   Updating\u001b[22m\u001b[39m git-repo `https://github.com/JuliaRegistries/General.git`\n"
     ]
    },
    {
     "name": "stdout",
     "output_type": "stream",
     "text": [
      "\u001b[2K\u001b[36m\u001b[1mFetching:\u001b[22m\u001b[39m [========================================>]  100.0 %\u001b[?25h"
     ]
    },
    {
     "name": "stderr",
     "output_type": "stream",
     "text": [
      "\u001b[32m\u001b[1m  Resolving\u001b[22m\u001b[39m package versions...\n",
      "\u001b[32m\u001b[1mNo Changes\u001b[22m\u001b[39m to `C:\\projects\\julia-intro2\\Project.toml`\n",
      "\u001b[32m\u001b[1mNo Changes\u001b[22m\u001b[39m to `C:\\projects\\julia-intro2\\Manifest.toml`\n"
     ]
    }
   ],
   "source": [
    "Pkg.add(\"Colors\")"
   ]
  },
  {
   "cell_type": "markdown",
   "metadata": {
    "slideshow": {
     "slide_type": "subslide"
    }
   },
   "source": [
    "The `Project.toml` file gives a concise description of the packages we've added to this environment:"
   ]
  },
  {
   "cell_type": "code",
   "execution_count": 33,
   "metadata": {},
   "outputs": [
    {
     "name": "stdout",
     "output_type": "stream",
     "text": [
      "[deps]\n",
      "Colors = \"5ae59095-9a9b-59fe-a467-6f913c188581\"\n",
      "HTTP = \"cd3eb016-35fb-5094-929b-558a96fad6f3\"\n",
      "ProgressMeter = \"92933f4c-e287-5a05-a399-4b506db050ca\"\n"
     ]
    },
    {
     "data": {
      "text/plain": [
       "Process(`\u001b[4mcat\u001b[24m \u001b[4mProject.toml\u001b[24m`, ProcessExited(0))"
      ]
     },
     "execution_count": 33,
     "metadata": {},
     "output_type": "execute_result"
    }
   ],
   "source": [
    "run(`cat Project.toml`)"
   ]
  },
  {
   "cell_type": "markdown",
   "metadata": {
    "slideshow": {
     "slide_type": "fragment"
    }
   },
   "source": [
    "The package manager also generates a complete manifest of every package that is installed, including all the transitive dependencies and their versions. You can use this to reproduce a given package environment exactly:"
   ]
  },
  {
   "cell_type": "code",
   "execution_count": 34,
   "metadata": {},
   "outputs": [
    {
     "name": "stdout",
     "output_type": "stream",
     "text": [
      "# This file is machine-generated - editing it directly is not advised\n",
      "\n",
      "[[Artifacts]]\n",
      "deps = [\"Pkg\"]\n",
      "git-tree-sha1 = \"c30985d8821e0cd73870b17b0ed0ce6dc44cb744\"\n",
      "uuid = \"56f22d72-fd6d-98f1-02f0-08ddc0907c33\"\n",
      "version = \"1.3.0\"\n",
      "\n",
      "[[Base64]]\n",
      "uuid = \"2a0f44e3-6c83-55bd-87e4-b1978d98bd5f\"\n",
      "\n",
      "[[ColorTypes]]\n",
      "deps = [\"FixedPointNumbers\", \"Random\"]\n",
      "git-tree-sha1 = \"4bffea7ed1a9f0f3d1a131bbcd4b925548d75288\"\n",
      "uuid = \"3da002f7-5984-5a60-b8a6-cbb66c0b333f\"\n",
      "version = \"0.10.9\"\n",
      "\n",
      "[[Colors]]\n",
      "deps = [\"ColorTypes\", \"FixedPointNumbers\", \"InteractiveUtils\", \"Reexport\"]\n",
      "git-tree-sha1 = \"ac5f2213e56ed8a34a3dd2f681f4df1166b34929\"\n",
      "uuid = \"5ae59095-9a9b-59fe-a467-6f913c188581\"\n",
      "version = \"0.12.6\"\n",
      "\n",
      "[[Dates]]\n",
      "deps = [\"Printf\"]\n",
      "uuid = \"ade2ca70-3891-5945-98fb-dc099432e06a\"\n",
      "\n",
      "[[Distributed]]\n",
      "deps = [\"Random\", \"Serialization\", \"Sockets\"]\n",
      "uuid = \"8ba89e20-285c-5b6f-9357-94700520ee1b\"\n",
      "\n",
      "[[FixedPointNumbers]]\n",
      "deps = [\"Statistics\"]\n",
      "git-tree-sha1 = \"335bfdceacc84c5cdf16aadc768aa5ddfc5383cc\"\n",
      "uuid = \"53c48c17-4a7d-5ca2-90c5-79b7896eea93\"\n",
      "version = \"0.8.4\"\n",
      "\n",
      "[[HTTP]]\n",
      "deps = [\"Base64\", \"Dates\", \"IniFile\", \"MbedTLS\", \"Sockets\", \"URIs\"]\n",
      "git-tree-sha1 = \"942c1a9c750bbe79912b7bd060a420932afd35b8\"\n",
      "uuid = \"cd3eb016-35fb-5094-929b-558a96fad6f3\"\n",
      "version = \"0.9.3\"\n",
      "\n",
      "[[IniFile]]\n",
      "deps = [\"Test\"]\n",
      "git-tree-sha1 = \"098e4d2c533924c921f9f9847274f2ad89e018b8\"\n",
      "uuid = \"83e8ac13-25f8-5344-8a64-a9f2b223428f\"\n",
      "version = \"0.5.0\"\n",
      "\n",
      "[[InteractiveUtils]]\n",
      "deps = [\"Markdown\"]\n",
      "uuid = \"b77e0a4c-d291-57a0-90e8-8db25a27a240\"\n",
      "\n",
      "[[JLLWrappers]]\n",
      "git-tree-sha1 = \"a431f5f2ca3f4feef3bd7a5e94b8b8d4f2f647a0\"\n",
      "uuid = \"692b3bcd-3c85-4b1f-b108-f13ce0eb3210\"\n",
      "version = \"1.2.0\"\n",
      "\n",
      "[[LibGit2]]\n",
      "deps = [\"Printf\"]\n",
      "uuid = \"76f85450-5226-5b5a-8eaa-529ad045b433\"\n",
      "\n",
      "[[Libdl]]\n",
      "uuid = \"8f399da3-3557-5675-b5ff-fb832c97cbdb\"\n",
      "\n",
      "[[LinearAlgebra]]\n",
      "deps = [\"Libdl\"]\n",
      "uuid = \"37e2e46d-f89d-539d-b4ee-838fcccc9c8e\"\n",
      "\n",
      "[[Logging]]\n",
      "uuid = \"56ddb016-857b-54e1-b83d-db4d58db5568\"\n",
      "\n",
      "[[Markdown]]\n",
      "deps = [\"Base64\"]\n",
      "uuid = \"d6f4376e-aef5-505a-96c1-9c027394607a\"\n",
      "\n",
      "[[MbedTLS]]\n",
      "deps = [\"Dates\", \"MbedTLS_jll\", \"Random\", \"Sockets\"]\n",
      "git-tree-sha1 = \"1c38e51c3d08ef2278062ebceade0e46cefc96fe\"\n",
      "uuid = \"739be429-bea8-5141-9913-cc70e7f3736d\"\n",
      "version = \"1.0.3\"\n",
      "\n",
      "[[MbedTLS_jll]]\n",
      "deps = [\"Artifacts\", \"JLLWrappers\", \"Libdl\", \"Pkg\"]\n",
      "git-tree-sha1 = \"0eef589dd1c26a3ac9d753fe1a8bcad63f956fa6\"\n",
      "uuid = \"c8ffd9c3-330d-5841-b78e-0817d7145fa1\"\n",
      "version = \"2.16.8+1\"\n",
      "\n",
      "[[Pkg]]\n",
      "deps = [\"Dates\", \"LibGit2\", \"Libdl\", \"Logging\", \"Markdown\", \"Printf\", \"REPL\", \"Random\", \"SHA\", \"UUIDs\"]\n",
      "uuid = \"44cfe95a-1eb2-52ea-b672-e2afdf69b78f\"\n",
      "\n",
      "[[Printf]]\n",
      "deps = [\"Unicode\"]\n",
      "uuid = \"de0858da-6303-5e67-8744-51eddeeeb8d7\"\n",
      "\n",
      "[[ProgressMeter]]\n",
      "deps = [\"Distributed\", \"Printf\"]\n",
      "git-tree-sha1 = \"6e9c89cba09f6ef134b00e10625590746ba1e036\"\n",
      "uuid = \"92933f4c-e287-5a05-a399-4b506db050ca\"\n",
      "version = \"1.5.0\"\n",
      "\n",
      "[[REPL]]\n",
      "deps = [\"InteractiveUtils\", \"Markdown\", \"Sockets\"]\n",
      "uuid = \"3fa0cd96-eef1-5676-8a61-b3b8758bbffb\"\n",
      "\n",
      "[[Random]]\n",
      "deps = [\"Serialization\"]\n",
      "uuid = \"9a3f8284-a2c9-5f02-9a11-845980a1fd5c\"\n",
      "\n",
      "[[Reexport]]\n",
      "git-tree-sha1 = \"57d8440b0c7d98fc4f889e478e80f268d534c9d5\"\n",
      "uuid = \"189a3867-3050-52da-a836-e630ba90ab69\"\n",
      "version = \"1.0.0\"\n",
      "\n",
      "[[SHA]]\n",
      "uuid = \"ea8e919c-243c-51af-8825-aaa63cd721ce\"\n",
      "\n",
      "[[Serialization]]\n",
      "uuid = \"9e88b42a-f829-5b0c-bbe9-9e923198166b\"\n",
      "\n",
      "[[Sockets]]\n",
      "uuid = \"6462fe0b-24de-5631-8697-dd941f90decc\"\n",
      "\n",
      "[[SparseArrays]]\n",
      "deps = [\"LinearAlgebra\", \"Random\"]\n",
      "uuid = \"2f01184e-e22b-5df5-ae63-d93ebab69eaf\"\n",
      "\n",
      "[[Statistics]]\n",
      "deps = [\"LinearAlgebra\", \"SparseArrays\"]\n",
      "uuid = \"10745b16-79ce-11e8-11f9-7d13ad32a3b2\"\n",
      "\n",
      "[[Test]]\n",
      "deps = [\"Distributed\", \"InteractiveUtils\", \"Logging\", \"Random\"]\n",
      "uuid = \"8dfed614-e22c-5e08-85e1-65c5234f0b40\"\n",
      "\n",
      "[[URIs]]\n",
      "git-tree-sha1 = \"7855809b88d7b16e9b029afd17880930626f54a2\"\n",
      "uuid = \"5c2747f8-b7ea-4ff2-ba2e-563bfd36b1d4\"\n",
      "version = \"1.2.0\"\n",
      "\n",
      "[[UUIDs]]\n",
      "deps = [\"Random\", \"SHA\"]\n",
      "uuid = \"cf7118a7-6976-5b1a-9a39-7adc72f591a4\"\n",
      "\n",
      "[[Unicode]]\n",
      "uuid = \"4ec0a83e-493e-50e2-b9ac-8f72acf5a8f5\"\n"
     ]
    },
    {
     "data": {
      "text/plain": [
       "Process(`\u001b[4mcat\u001b[24m \u001b[4mManifest.toml\u001b[24m`, ProcessExited(0))"
      ]
     },
     "execution_count": 34,
     "metadata": {},
     "output_type": "execute_result"
    }
   ],
   "source": [
    "run(`cat Manifest.toml`)"
   ]
  },
  {
   "cell_type": "markdown",
   "metadata": {
    "slideshow": {
     "slide_type": "subslide"
    }
   },
   "source": [
    "## Example: Representing Colors and Images with Colors.jl\n",
    "\n",
    "Let's take a tour of one of my favorite packages, Colors.jl, and show off some feature's of Julia's arrays along the way. "
   ]
  },
  {
   "cell_type": "markdown",
   "metadata": {
    "slideshow": {
     "slide_type": "fragment"
    }
   },
   "source": [
    "We can load a package from the current environment with `using`:"
   ]
  },
  {
   "cell_type": "code",
   "execution_count": 35,
   "metadata": {},
   "outputs": [],
   "source": [
    "using Colors: RGB  # For now, just bring the `RGB` name into scope"
   ]
  },
  {
   "cell_type": "code",
   "execution_count": 36,
   "metadata": {
    "slideshow": {
     "slide_type": "subslide"
    }
   },
   "outputs": [
    {
     "data": {
      "image/svg+xml": [
       "<?xml version=\"1.0\" encoding=\"UTF-8\"?>\n",
       "<!DOCTYPE svg PUBLIC \"-//W3C//DTD SVG 1.1//EN\"\n",
       " \"http://www.w3.org/Graphics/SVG/1.1/DTD/svg11.dtd\">\n",
       "<svg xmlns=\"http://www.w3.org/2000/svg\" version=\"1.1\"\n",
       "     width=\"25mm\" height=\"25mm\" viewBox=\"0 0 1 1\">\n",
       "    <rect width=\"1\" height=\"1\" fill=\"#FF0000\" stroke=\"none\"/>\n",
       "</svg>\n"
      ],
      "text/plain": [
       "RGB{N0f8}(1.0,0.0,0.0)"
      ]
     },
     "execution_count": 36,
     "metadata": {},
     "output_type": "execute_result"
    }
   ],
   "source": [
    "RGB(1, 0, 0)"
   ]
  },
  {
   "cell_type": "markdown",
   "metadata": {
    "slideshow": {
     "slide_type": "fragment"
    }
   },
   "source": [
    "The `RGB` type from Colors.jl knows how to render itself as an actual colored `div` when running in Jupyter. We can also print its value as a string if we want:"
   ]
  },
  {
   "cell_type": "code",
   "execution_count": 37,
   "metadata": {},
   "outputs": [
    {
     "name": "stdout",
     "output_type": "stream",
     "text": [
      "RGB{N0f8}(1.0,0.0,0.0)"
     ]
    }
   ],
   "source": [
    "print(RGB(1, 0, 0))"
   ]
  },
  {
   "cell_type": "markdown",
   "metadata": {
    "slideshow": {
     "slide_type": "subslide"
    }
   },
   "source": [
    "Julia arrays are fully generic, so we can create an array of colors:"
   ]
  },
  {
   "cell_type": "code",
   "execution_count": 38,
   "metadata": {
    "slideshow": {
     "slide_type": "fragment"
    }
   },
   "outputs": [
    {
     "data": {
      "image/svg+xml": [
       "<?xml version=\"1.0\" encoding=\"UTF-8\"?>\n",
       "<!DOCTYPE svg PUBLIC \"-//W3C//DTD SVG 1.1//EN\"\n",
       " \"http://www.w3.org/Graphics/SVG/1.1/DTD/svg11.dtd\">\n",
       "<svg xmlns=\"http://www.w3.org/2000/svg\" version=\"1.1\"\n",
       "     width=\"150mm\" height=\"150mm\"\n",
       "     viewBox=\"0 0 11 11\" preserveAspectRatio=\"none\"\n",
       "     shape-rendering=\"crispEdges\" stroke=\"none\">\n",
       "<rect width=\".93\" height=\".93\" x=\"0\" y=\"0\" fill=\"#000000\" />\n",
       "<rect width=\".93\" height=\".93\" x=\"1\" y=\"0\" fill=\"#001A00\" />\n",
       "<rect width=\".93\" height=\".93\" x=\"2\" y=\"0\" fill=\"#003300\" />\n",
       "<rect width=\".93\" height=\".93\" x=\"3\" y=\"0\" fill=\"#004C00\" />\n",
       "<rect width=\".93\" height=\".93\" x=\"4\" y=\"0\" fill=\"#006600\" />\n",
       "<rect width=\".93\" height=\".93\" x=\"5\" y=\"0\" fill=\"#008000\" />\n",
       "<rect width=\".93\" height=\".93\" x=\"6\" y=\"0\" fill=\"#009900\" />\n",
       "<rect width=\".93\" height=\".93\" x=\"7\" y=\"0\" fill=\"#00B200\" />\n",
       "<rect width=\".93\" height=\".93\" x=\"8\" y=\"0\" fill=\"#00CC00\" />\n",
       "<rect width=\".93\" height=\".93\" x=\"9\" y=\"0\" fill=\"#00E600\" />\n",
       "<rect width=\".93\" height=\".93\" x=\"10\" y=\"0\" fill=\"#00FF00\" />\n",
       "<rect width=\".93\" height=\".93\" x=\"0\" y=\"1\" fill=\"#1A0000\" />\n",
       "<rect width=\".93\" height=\".93\" x=\"1\" y=\"1\" fill=\"#1A1A00\" />\n",
       "<rect width=\".93\" height=\".93\" x=\"2\" y=\"1\" fill=\"#1A3300\" />\n",
       "<rect width=\".93\" height=\".93\" x=\"3\" y=\"1\" fill=\"#1A4C00\" />\n",
       "<rect width=\".93\" height=\".93\" x=\"4\" y=\"1\" fill=\"#1A6600\" />\n",
       "<rect width=\".93\" height=\".93\" x=\"5\" y=\"1\" fill=\"#1A8000\" />\n",
       "<rect width=\".93\" height=\".93\" x=\"6\" y=\"1\" fill=\"#1A9900\" />\n",
       "<rect width=\".93\" height=\".93\" x=\"7\" y=\"1\" fill=\"#1AB200\" />\n",
       "<rect width=\".93\" height=\".93\" x=\"8\" y=\"1\" fill=\"#1ACC00\" />\n",
       "<rect width=\".93\" height=\".93\" x=\"9\" y=\"1\" fill=\"#1AE600\" />\n",
       "<rect width=\".93\" height=\".93\" x=\"10\" y=\"1\" fill=\"#1AFF00\" />\n",
       "<rect width=\".93\" height=\".93\" x=\"0\" y=\"2\" fill=\"#330000\" />\n",
       "<rect width=\".93\" height=\".93\" x=\"1\" y=\"2\" fill=\"#331A00\" />\n",
       "<rect width=\".93\" height=\".93\" x=\"2\" y=\"2\" fill=\"#333300\" />\n",
       "<rect width=\".93\" height=\".93\" x=\"3\" y=\"2\" fill=\"#334C00\" />\n",
       "<rect width=\".93\" height=\".93\" x=\"4\" y=\"2\" fill=\"#336600\" />\n",
       "<rect width=\".93\" height=\".93\" x=\"5\" y=\"2\" fill=\"#338000\" />\n",
       "<rect width=\".93\" height=\".93\" x=\"6\" y=\"2\" fill=\"#339900\" />\n",
       "<rect width=\".93\" height=\".93\" x=\"7\" y=\"2\" fill=\"#33B200\" />\n",
       "<rect width=\".93\" height=\".93\" x=\"8\" y=\"2\" fill=\"#33CC00\" />\n",
       "<rect width=\".93\" height=\".93\" x=\"9\" y=\"2\" fill=\"#33E600\" />\n",
       "<rect width=\".93\" height=\".93\" x=\"10\" y=\"2\" fill=\"#33FF00\" />\n",
       "<rect width=\".93\" height=\".93\" x=\"0\" y=\"3\" fill=\"#4C0000\" />\n",
       "<rect width=\".93\" height=\".93\" x=\"1\" y=\"3\" fill=\"#4C1A00\" />\n",
       "<rect width=\".93\" height=\".93\" x=\"2\" y=\"3\" fill=\"#4C3300\" />\n",
       "<rect width=\".93\" height=\".93\" x=\"3\" y=\"3\" fill=\"#4C4C00\" />\n",
       "<rect width=\".93\" height=\".93\" x=\"4\" y=\"3\" fill=\"#4C6600\" />\n",
       "<rect width=\".93\" height=\".93\" x=\"5\" y=\"3\" fill=\"#4C8000\" />\n",
       "<rect width=\".93\" height=\".93\" x=\"6\" y=\"3\" fill=\"#4C9900\" />\n",
       "<rect width=\".93\" height=\".93\" x=\"7\" y=\"3\" fill=\"#4CB200\" />\n",
       "<rect width=\".93\" height=\".93\" x=\"8\" y=\"3\" fill=\"#4CCC00\" />\n",
       "<rect width=\".93\" height=\".93\" x=\"9\" y=\"3\" fill=\"#4CE600\" />\n",
       "<rect width=\".93\" height=\".93\" x=\"10\" y=\"3\" fill=\"#4CFF00\" />\n",
       "<rect width=\".93\" height=\".93\" x=\"0\" y=\"4\" fill=\"#660000\" />\n",
       "<rect width=\".93\" height=\".93\" x=\"1\" y=\"4\" fill=\"#661A00\" />\n",
       "<rect width=\".93\" height=\".93\" x=\"2\" y=\"4\" fill=\"#663300\" />\n",
       "<rect width=\".93\" height=\".93\" x=\"3\" y=\"4\" fill=\"#664C00\" />\n",
       "<rect width=\".93\" height=\".93\" x=\"4\" y=\"4\" fill=\"#666600\" />\n",
       "<rect width=\".93\" height=\".93\" x=\"5\" y=\"4\" fill=\"#668000\" />\n",
       "<rect width=\".93\" height=\".93\" x=\"6\" y=\"4\" fill=\"#669900\" />\n",
       "<rect width=\".93\" height=\".93\" x=\"7\" y=\"4\" fill=\"#66B200\" />\n",
       "<rect width=\".93\" height=\".93\" x=\"8\" y=\"4\" fill=\"#66CC00\" />\n",
       "<rect width=\".93\" height=\".93\" x=\"9\" y=\"4\" fill=\"#66E600\" />\n",
       "<rect width=\".93\" height=\".93\" x=\"10\" y=\"4\" fill=\"#66FF00\" />\n",
       "<rect width=\".93\" height=\".93\" x=\"0\" y=\"5\" fill=\"#800000\" />\n",
       "<rect width=\".93\" height=\".93\" x=\"1\" y=\"5\" fill=\"#801A00\" />\n",
       "<rect width=\".93\" height=\".93\" x=\"2\" y=\"5\" fill=\"#803300\" />\n",
       "<rect width=\".93\" height=\".93\" x=\"3\" y=\"5\" fill=\"#804C00\" />\n",
       "<rect width=\".93\" height=\".93\" x=\"4\" y=\"5\" fill=\"#806600\" />\n",
       "<rect width=\".93\" height=\".93\" x=\"5\" y=\"5\" fill=\"#808000\" />\n",
       "<rect width=\".93\" height=\".93\" x=\"6\" y=\"5\" fill=\"#809900\" />\n",
       "<rect width=\".93\" height=\".93\" x=\"7\" y=\"5\" fill=\"#80B200\" />\n",
       "<rect width=\".93\" height=\".93\" x=\"8\" y=\"5\" fill=\"#80CC00\" />\n",
       "<rect width=\".93\" height=\".93\" x=\"9\" y=\"5\" fill=\"#80E600\" />\n",
       "<rect width=\".93\" height=\".93\" x=\"10\" y=\"5\" fill=\"#80FF00\" />\n",
       "<rect width=\".93\" height=\".93\" x=\"0\" y=\"6\" fill=\"#990000\" />\n",
       "<rect width=\".93\" height=\".93\" x=\"1\" y=\"6\" fill=\"#991A00\" />\n",
       "<rect width=\".93\" height=\".93\" x=\"2\" y=\"6\" fill=\"#993300\" />\n",
       "<rect width=\".93\" height=\".93\" x=\"3\" y=\"6\" fill=\"#994C00\" />\n",
       "<rect width=\".93\" height=\".93\" x=\"4\" y=\"6\" fill=\"#996600\" />\n",
       "<rect width=\".93\" height=\".93\" x=\"5\" y=\"6\" fill=\"#998000\" />\n",
       "<rect width=\".93\" height=\".93\" x=\"6\" y=\"6\" fill=\"#999900\" />\n",
       "<rect width=\".93\" height=\".93\" x=\"7\" y=\"6\" fill=\"#99B200\" />\n",
       "<rect width=\".93\" height=\".93\" x=\"8\" y=\"6\" fill=\"#99CC00\" />\n",
       "<rect width=\".93\" height=\".93\" x=\"9\" y=\"6\" fill=\"#99E600\" />\n",
       "<rect width=\".93\" height=\".93\" x=\"10\" y=\"6\" fill=\"#99FF00\" />\n",
       "<rect width=\".93\" height=\".93\" x=\"0\" y=\"7\" fill=\"#B20000\" />\n",
       "<rect width=\".93\" height=\".93\" x=\"1\" y=\"7\" fill=\"#B21A00\" />\n",
       "<rect width=\".93\" height=\".93\" x=\"2\" y=\"7\" fill=\"#B23300\" />\n",
       "<rect width=\".93\" height=\".93\" x=\"3\" y=\"7\" fill=\"#B24C00\" />\n",
       "<rect width=\".93\" height=\".93\" x=\"4\" y=\"7\" fill=\"#B26600\" />\n",
       "<rect width=\".93\" height=\".93\" x=\"5\" y=\"7\" fill=\"#B28000\" />\n",
       "<rect width=\".93\" height=\".93\" x=\"6\" y=\"7\" fill=\"#B29900\" />\n",
       "<rect width=\".93\" height=\".93\" x=\"7\" y=\"7\" fill=\"#B2B200\" />\n",
       "<rect width=\".93\" height=\".93\" x=\"8\" y=\"7\" fill=\"#B2CC00\" />\n",
       "<rect width=\".93\" height=\".93\" x=\"9\" y=\"7\" fill=\"#B2E600\" />\n",
       "<rect width=\".93\" height=\".93\" x=\"10\" y=\"7\" fill=\"#B2FF00\" />\n",
       "<rect width=\".93\" height=\".93\" x=\"0\" y=\"8\" fill=\"#CC0000\" />\n",
       "<rect width=\".93\" height=\".93\" x=\"1\" y=\"8\" fill=\"#CC1A00\" />\n",
       "<rect width=\".93\" height=\".93\" x=\"2\" y=\"8\" fill=\"#CC3300\" />\n",
       "<rect width=\".93\" height=\".93\" x=\"3\" y=\"8\" fill=\"#CC4C00\" />\n",
       "<rect width=\".93\" height=\".93\" x=\"4\" y=\"8\" fill=\"#CC6600\" />\n",
       "<rect width=\".93\" height=\".93\" x=\"5\" y=\"8\" fill=\"#CC8000\" />\n",
       "<rect width=\".93\" height=\".93\" x=\"6\" y=\"8\" fill=\"#CC9900\" />\n",
       "<rect width=\".93\" height=\".93\" x=\"7\" y=\"8\" fill=\"#CCB200\" />\n",
       "<rect width=\".93\" height=\".93\" x=\"8\" y=\"8\" fill=\"#CCCC00\" />\n",
       "<rect width=\".93\" height=\".93\" x=\"9\" y=\"8\" fill=\"#CCE600\" />\n",
       "<rect width=\".93\" height=\".93\" x=\"10\" y=\"8\" fill=\"#CCFF00\" />\n",
       "<rect width=\".93\" height=\".93\" x=\"0\" y=\"9\" fill=\"#E60000\" />\n",
       "<rect width=\".93\" height=\".93\" x=\"1\" y=\"9\" fill=\"#E61A00\" />\n",
       "<rect width=\".93\" height=\".93\" x=\"2\" y=\"9\" fill=\"#E63300\" />\n",
       "<rect width=\".93\" height=\".93\" x=\"3\" y=\"9\" fill=\"#E64C00\" />\n",
       "<rect width=\".93\" height=\".93\" x=\"4\" y=\"9\" fill=\"#E66600\" />\n",
       "<rect width=\".93\" height=\".93\" x=\"5\" y=\"9\" fill=\"#E68000\" />\n",
       "<rect width=\".93\" height=\".93\" x=\"6\" y=\"9\" fill=\"#E69900\" />\n",
       "<rect width=\".93\" height=\".93\" x=\"7\" y=\"9\" fill=\"#E6B200\" />\n",
       "<rect width=\".93\" height=\".93\" x=\"8\" y=\"9\" fill=\"#E6CC00\" />\n",
       "<rect width=\".93\" height=\".93\" x=\"9\" y=\"9\" fill=\"#E6E600\" />\n",
       "<rect width=\".93\" height=\".93\" x=\"10\" y=\"9\" fill=\"#E6FF00\" />\n",
       "<rect width=\".93\" height=\".93\" x=\"0\" y=\"10\" fill=\"#FF0000\" />\n",
       "<rect width=\".93\" height=\".93\" x=\"1\" y=\"10\" fill=\"#FF1A00\" />\n",
       "<rect width=\".93\" height=\".93\" x=\"2\" y=\"10\" fill=\"#FF3300\" />\n",
       "<rect width=\".93\" height=\".93\" x=\"3\" y=\"10\" fill=\"#FF4C00\" />\n",
       "<rect width=\".93\" height=\".93\" x=\"4\" y=\"10\" fill=\"#FF6600\" />\n",
       "<rect width=\".93\" height=\".93\" x=\"5\" y=\"10\" fill=\"#FF8000\" />\n",
       "<rect width=\".93\" height=\".93\" x=\"6\" y=\"10\" fill=\"#FF9900\" />\n",
       "<rect width=\".93\" height=\".93\" x=\"7\" y=\"10\" fill=\"#FFB200\" />\n",
       "<rect width=\".93\" height=\".93\" x=\"8\" y=\"10\" fill=\"#FFCC00\" />\n",
       "<rect width=\".93\" height=\".93\" x=\"9\" y=\"10\" fill=\"#FFE600\" />\n",
       "<rect width=\".93\" height=\".93\" x=\"10\" y=\"10\" fill=\"#FFFF00\" />\n",
       "</svg>"
      ],
      "text/plain": [
       "11×11 Array{RGB{Float64},2} with eltype RGB{Float64}:\n",
       " RGB{Float64}(0.0,0.0,0.0)  …  RGB{Float64}(0.0,1.0,0.0)\n",
       " RGB{Float64}(0.1,0.0,0.0)     RGB{Float64}(0.1,1.0,0.0)\n",
       " RGB{Float64}(0.2,0.0,0.0)     RGB{Float64}(0.2,1.0,0.0)\n",
       " RGB{Float64}(0.3,0.0,0.0)     RGB{Float64}(0.3,1.0,0.0)\n",
       " RGB{Float64}(0.4,0.0,0.0)     RGB{Float64}(0.4,1.0,0.0)\n",
       " RGB{Float64}(0.5,0.0,0.0)  …  RGB{Float64}(0.5,1.0,0.0)\n",
       " RGB{Float64}(0.6,0.0,0.0)     RGB{Float64}(0.6,1.0,0.0)\n",
       " RGB{Float64}(0.7,0.0,0.0)     RGB{Float64}(0.7,1.0,0.0)\n",
       " RGB{Float64}(0.8,0.0,0.0)     RGB{Float64}(0.8,1.0,0.0)\n",
       " RGB{Float64}(0.9,0.0,0.0)     RGB{Float64}(0.9,1.0,0.0)\n",
       " RGB{Float64}(1.0,0.0,0.0)  …  RGB{Float64}(1.0,1.0,0.0)"
      ]
     },
     "execution_count": 38,
     "metadata": {},
     "output_type": "execute_result"
    }
   ],
   "source": [
    "C = [RGB(i, j, 0) for i in 0:0.1:1, j in 0:0.1:1]"
   ]
  },
  {
   "cell_type": "code",
   "execution_count": 39,
   "metadata": {
    "slideshow": {
     "slide_type": "fragment"
    }
   },
   "outputs": [
    {
     "data": {
      "text/plain": [
       "Array{RGB{Float64},2}"
      ]
     },
     "execution_count": 39,
     "metadata": {},
     "output_type": "execute_result"
    }
   ],
   "source": [
    "typeof(C)"
   ]
  },
  {
   "cell_type": "markdown",
   "metadata": {
    "slideshow": {
     "slide_type": "subslide"
    }
   },
   "source": [
    "C is an array like any other, so we can index into it and slice it:"
   ]
  },
  {
   "cell_type": "code",
   "execution_count": 40,
   "metadata": {},
   "outputs": [
    {
     "data": {
      "image/svg+xml": [
       "<?xml version=\"1.0\" encoding=\"UTF-8\"?>\n",
       "<!DOCTYPE svg PUBLIC \"-//W3C//DTD SVG 1.1//EN\"\n",
       " \"http://www.w3.org/Graphics/SVG/1.1/DTD/svg11.dtd\">\n",
       "<svg xmlns=\"http://www.w3.org/2000/svg\" version=\"1.1\"\n",
       "     width=\"25mm\" height=\"25mm\" viewBox=\"0 0 1 1\">\n",
       "    <rect width=\"1\" height=\"1\" fill=\"#B21A00\" stroke=\"none\"/>\n",
       "</svg>\n"
      ],
      "text/plain": [
       "RGB{Float64}(0.7,0.1,0.0)"
      ]
     },
     "execution_count": 40,
     "metadata": {},
     "output_type": "execute_result"
    }
   ],
   "source": [
    "C[8, 2]"
   ]
  },
  {
   "cell_type": "code",
   "execution_count": 41,
   "metadata": {
    "slideshow": {
     "slide_type": "fragment"
    }
   },
   "outputs": [
    {
     "data": {
      "image/svg+xml": [
       "<?xml version=\"1.0\" encoding=\"UTF-8\"?>\n",
       "<!DOCTYPE svg PUBLIC \"-//W3C//DTD SVG 1.1//EN\"\n",
       " \"http://www.w3.org/Graphics/SVG/1.1/DTD/svg11.dtd\">\n",
       "<svg xmlns=\"http://www.w3.org/2000/svg\" version=\"1.1\"\n",
       "     width=\"180mm\" height=\"25mm\"\n",
       "     viewBox=\"0 0 11 1\" preserveAspectRatio=\"none\"\n",
       "     shape-rendering=\"crispEdges\" stroke=\"none\">\n",
       "<rect width=\".94\" height=\".96\" x=\"0\" y=\"0\" fill=\"#000000\" />\n",
       "<rect width=\".94\" height=\".96\" x=\"1\" y=\"0\" fill=\"#001A00\" />\n",
       "<rect width=\".94\" height=\".96\" x=\"2\" y=\"0\" fill=\"#003300\" />\n",
       "<rect width=\".94\" height=\".96\" x=\"3\" y=\"0\" fill=\"#004C00\" />\n",
       "<rect width=\".94\" height=\".96\" x=\"4\" y=\"0\" fill=\"#006600\" />\n",
       "<rect width=\".94\" height=\".96\" x=\"5\" y=\"0\" fill=\"#008000\" />\n",
       "<rect width=\".94\" height=\".96\" x=\"6\" y=\"0\" fill=\"#009900\" />\n",
       "<rect width=\".94\" height=\".96\" x=\"7\" y=\"0\" fill=\"#00B200\" />\n",
       "<rect width=\".94\" height=\".96\" x=\"8\" y=\"0\" fill=\"#00CC00\" />\n",
       "<rect width=\".94\" height=\".96\" x=\"9\" y=\"0\" fill=\"#00E600\" />\n",
       "<rect width=\".94\" height=\".96\" x=\"10\" y=\"0\" fill=\"#00FF00\" />\n",
       "</svg>"
      ],
      "text/plain": [
       "11-element Array{RGB{Float64},1} with eltype RGB{Float64}:\n",
       " RGB{Float64}(0.0,0.0,0.0)\n",
       " RGB{Float64}(0.0,0.1,0.0)\n",
       " RGB{Float64}(0.0,0.2,0.0)\n",
       " RGB{Float64}(0.0,0.3,0.0)\n",
       " RGB{Float64}(0.0,0.4,0.0)\n",
       " RGB{Float64}(0.0,0.5,0.0)\n",
       " RGB{Float64}(0.0,0.6,0.0)\n",
       " RGB{Float64}(0.0,0.7,0.0)\n",
       " RGB{Float64}(0.0,0.8,0.0)\n",
       " RGB{Float64}(0.0,0.9,0.0)\n",
       " RGB{Float64}(0.0,1.0,0.0)"
      ]
     },
     "execution_count": 41,
     "metadata": {},
     "output_type": "execute_result"
    }
   ],
   "source": [
    "C[1, :]"
   ]
  },
  {
   "cell_type": "markdown",
   "metadata": {
    "slideshow": {
     "slide_type": "subslide"
    }
   },
   "source": [
    "Let's pull out the red channel from our image `C`:"
   ]
  },
  {
   "cell_type": "code",
   "execution_count": 42,
   "metadata": {},
   "outputs": [],
   "source": [
    "using Colors: red, green, blue"
   ]
  },
  {
   "cell_type": "markdown",
   "metadata": {
    "slideshow": {
     "slide_type": "fragment"
    }
   },
   "source": [
    "If you don't know what a function does, you can use the `?` operator to access its docstring:"
   ]
  },
  {
   "cell_type": "code",
   "execution_count": 43,
   "metadata": {
    "slideshow": {
     "slide_type": "-"
    }
   },
   "outputs": [
    {
     "name": "stdout",
     "output_type": "stream",
     "text": [
      "search: \u001b[0m\u001b[1mr\u001b[22m\u001b[0m\u001b[1me\u001b[22m\u001b[0m\u001b[1md\u001b[22muce \u001b[0m\u001b[1mr\u001b[22m\u001b[0m\u001b[1me\u001b[22m\u001b[0m\u001b[1md\u001b[22misplay \u001b[0m\u001b[1mr\u001b[22m\u001b[0m\u001b[1me\u001b[22m\u001b[0m\u001b[1md\u001b[22mirect_stdin \u001b[0m\u001b[1mr\u001b[22m\u001b[0m\u001b[1me\u001b[22m\u001b[0m\u001b[1md\u001b[22mirect_stdout \u001b[0m\u001b[1mr\u001b[22m\u001b[0m\u001b[1me\u001b[22m\u001b[0m\u001b[1md\u001b[22mirect_stderr\n",
      "\n"
     ]
    },
    {
     "data": {
      "text/latex": [
       "\\texttt{red(c)} returns the red component of an \\texttt{AbstractRGB} opaque or transparent color.\n",
       "\n"
      ],
      "text/markdown": [
       "`red(c)` returns the red component of an `AbstractRGB` opaque or transparent color.\n"
      ],
      "text/plain": [
       "  \u001b[36mred(c)\u001b[39m returns the red component of an \u001b[36mAbstractRGB\u001b[39m opaque or transparent\n",
       "  color."
      ]
     },
     "execution_count": 43,
     "metadata": {},
     "output_type": "execute_result"
    }
   ],
   "source": [
    "?red"
   ]
  },
  {
   "cell_type": "code",
   "execution_count": 44,
   "metadata": {
    "slideshow": {
     "slide_type": "fragment"
    }
   },
   "outputs": [
    {
     "data": {
      "text/plain": [
       "0.0"
      ]
     },
     "execution_count": 44,
     "metadata": {},
     "output_type": "execute_result"
    }
   ],
   "source": [
    "red(C[1, 1])"
   ]
  },
  {
   "cell_type": "markdown",
   "metadata": {
    "slideshow": {
     "slide_type": "subslide"
    }
   },
   "source": [
    "### Broadcasting\n",
    "\n",
    "To get the red channel of each element of `C`, we can use *broadcasting*. The syntax `f.(x)` applies the function `f` to each element of `x`:"
   ]
  },
  {
   "cell_type": "code",
   "execution_count": 45,
   "metadata": {
    "slideshow": {
     "slide_type": "fragment"
    }
   },
   "outputs": [
    {
     "data": {
      "text/plain": [
       "11×11 Array{Float64,2}:\n",
       " 0.0  0.0  0.0  0.0  0.0  0.0  0.0  0.0  0.0  0.0  0.0\n",
       " 0.1  0.1  0.1  0.1  0.1  0.1  0.1  0.1  0.1  0.1  0.1\n",
       " 0.2  0.2  0.2  0.2  0.2  0.2  0.2  0.2  0.2  0.2  0.2\n",
       " 0.3  0.3  0.3  0.3  0.3  0.3  0.3  0.3  0.3  0.3  0.3\n",
       " 0.4  0.4  0.4  0.4  0.4  0.4  0.4  0.4  0.4  0.4  0.4\n",
       " 0.5  0.5  0.5  0.5  0.5  0.5  0.5  0.5  0.5  0.5  0.5\n",
       " 0.6  0.6  0.6  0.6  0.6  0.6  0.6  0.6  0.6  0.6  0.6\n",
       " 0.7  0.7  0.7  0.7  0.7  0.7  0.7  0.7  0.7  0.7  0.7\n",
       " 0.8  0.8  0.8  0.8  0.8  0.8  0.8  0.8  0.8  0.8  0.8\n",
       " 0.9  0.9  0.9  0.9  0.9  0.9  0.9  0.9  0.9  0.9  0.9\n",
       " 1.0  1.0  1.0  1.0  1.0  1.0  1.0  1.0  1.0  1.0  1.0"
      ]
     },
     "execution_count": 45,
     "metadata": {},
     "output_type": "execute_result"
    }
   ],
   "source": [
    "red.(C)"
   ]
  },
  {
   "cell_type": "markdown",
   "metadata": {
    "slideshow": {
     "slide_type": "subslide"
    }
   },
   "source": [
    "That's not very visual. Let's render that red channel as a grayscale image:"
   ]
  },
  {
   "cell_type": "code",
   "execution_count": 46,
   "metadata": {
    "slideshow": {
     "slide_type": "fragment"
    }
   },
   "outputs": [
    {
     "data": {
      "image/svg+xml": [
       "<?xml version=\"1.0\" encoding=\"UTF-8\"?>\n",
       "<!DOCTYPE svg PUBLIC \"-//W3C//DTD SVG 1.1//EN\"\n",
       " \"http://www.w3.org/Graphics/SVG/1.1/DTD/svg11.dtd\">\n",
       "<svg xmlns=\"http://www.w3.org/2000/svg\" version=\"1.1\"\n",
       "     width=\"150mm\" height=\"150mm\"\n",
       "     viewBox=\"0 0 11 11\" preserveAspectRatio=\"none\"\n",
       "     shape-rendering=\"crispEdges\" stroke=\"none\">\n",
       "<rect width=\".93\" height=\".93\" x=\"0\" y=\"0\" fill=\"#000000\" />\n",
       "<rect width=\".93\" height=\".93\" x=\"1\" y=\"0\" fill=\"#000000\" />\n",
       "<rect width=\".93\" height=\".93\" x=\"2\" y=\"0\" fill=\"#000000\" />\n",
       "<rect width=\".93\" height=\".93\" x=\"3\" y=\"0\" fill=\"#000000\" />\n",
       "<rect width=\".93\" height=\".93\" x=\"4\" y=\"0\" fill=\"#000000\" />\n",
       "<rect width=\".93\" height=\".93\" x=\"5\" y=\"0\" fill=\"#000000\" />\n",
       "<rect width=\".93\" height=\".93\" x=\"6\" y=\"0\" fill=\"#000000\" />\n",
       "<rect width=\".93\" height=\".93\" x=\"7\" y=\"0\" fill=\"#000000\" />\n",
       "<rect width=\".93\" height=\".93\" x=\"8\" y=\"0\" fill=\"#000000\" />\n",
       "<rect width=\".93\" height=\".93\" x=\"9\" y=\"0\" fill=\"#000000\" />\n",
       "<rect width=\".93\" height=\".93\" x=\"10\" y=\"0\" fill=\"#000000\" />\n",
       "<rect width=\".93\" height=\".93\" x=\"0\" y=\"1\" fill=\"#1A1A1A\" />\n",
       "<rect width=\".93\" height=\".93\" x=\"1\" y=\"1\" fill=\"#1A1A1A\" />\n",
       "<rect width=\".93\" height=\".93\" x=\"2\" y=\"1\" fill=\"#1A1A1A\" />\n",
       "<rect width=\".93\" height=\".93\" x=\"3\" y=\"1\" fill=\"#1A1A1A\" />\n",
       "<rect width=\".93\" height=\".93\" x=\"4\" y=\"1\" fill=\"#1A1A1A\" />\n",
       "<rect width=\".93\" height=\".93\" x=\"5\" y=\"1\" fill=\"#1A1A1A\" />\n",
       "<rect width=\".93\" height=\".93\" x=\"6\" y=\"1\" fill=\"#1A1A1A\" />\n",
       "<rect width=\".93\" height=\".93\" x=\"7\" y=\"1\" fill=\"#1A1A1A\" />\n",
       "<rect width=\".93\" height=\".93\" x=\"8\" y=\"1\" fill=\"#1A1A1A\" />\n",
       "<rect width=\".93\" height=\".93\" x=\"9\" y=\"1\" fill=\"#1A1A1A\" />\n",
       "<rect width=\".93\" height=\".93\" x=\"10\" y=\"1\" fill=\"#1A1A1A\" />\n",
       "<rect width=\".93\" height=\".93\" x=\"0\" y=\"2\" fill=\"#333333\" />\n",
       "<rect width=\".93\" height=\".93\" x=\"1\" y=\"2\" fill=\"#333333\" />\n",
       "<rect width=\".93\" height=\".93\" x=\"2\" y=\"2\" fill=\"#333333\" />\n",
       "<rect width=\".93\" height=\".93\" x=\"3\" y=\"2\" fill=\"#333333\" />\n",
       "<rect width=\".93\" height=\".93\" x=\"4\" y=\"2\" fill=\"#333333\" />\n",
       "<rect width=\".93\" height=\".93\" x=\"5\" y=\"2\" fill=\"#333333\" />\n",
       "<rect width=\".93\" height=\".93\" x=\"6\" y=\"2\" fill=\"#333333\" />\n",
       "<rect width=\".93\" height=\".93\" x=\"7\" y=\"2\" fill=\"#333333\" />\n",
       "<rect width=\".93\" height=\".93\" x=\"8\" y=\"2\" fill=\"#333333\" />\n",
       "<rect width=\".93\" height=\".93\" x=\"9\" y=\"2\" fill=\"#333333\" />\n",
       "<rect width=\".93\" height=\".93\" x=\"10\" y=\"2\" fill=\"#333333\" />\n",
       "<rect width=\".93\" height=\".93\" x=\"0\" y=\"3\" fill=\"#4C4C4C\" />\n",
       "<rect width=\".93\" height=\".93\" x=\"1\" y=\"3\" fill=\"#4C4C4C\" />\n",
       "<rect width=\".93\" height=\".93\" x=\"2\" y=\"3\" fill=\"#4C4C4C\" />\n",
       "<rect width=\".93\" height=\".93\" x=\"3\" y=\"3\" fill=\"#4C4C4C\" />\n",
       "<rect width=\".93\" height=\".93\" x=\"4\" y=\"3\" fill=\"#4C4C4C\" />\n",
       "<rect width=\".93\" height=\".93\" x=\"5\" y=\"3\" fill=\"#4C4C4C\" />\n",
       "<rect width=\".93\" height=\".93\" x=\"6\" y=\"3\" fill=\"#4C4C4C\" />\n",
       "<rect width=\".93\" height=\".93\" x=\"7\" y=\"3\" fill=\"#4C4C4C\" />\n",
       "<rect width=\".93\" height=\".93\" x=\"8\" y=\"3\" fill=\"#4C4C4C\" />\n",
       "<rect width=\".93\" height=\".93\" x=\"9\" y=\"3\" fill=\"#4C4C4C\" />\n",
       "<rect width=\".93\" height=\".93\" x=\"10\" y=\"3\" fill=\"#4C4C4C\" />\n",
       "<rect width=\".93\" height=\".93\" x=\"0\" y=\"4\" fill=\"#666666\" />\n",
       "<rect width=\".93\" height=\".93\" x=\"1\" y=\"4\" fill=\"#666666\" />\n",
       "<rect width=\".93\" height=\".93\" x=\"2\" y=\"4\" fill=\"#666666\" />\n",
       "<rect width=\".93\" height=\".93\" x=\"3\" y=\"4\" fill=\"#666666\" />\n",
       "<rect width=\".93\" height=\".93\" x=\"4\" y=\"4\" fill=\"#666666\" />\n",
       "<rect width=\".93\" height=\".93\" x=\"5\" y=\"4\" fill=\"#666666\" />\n",
       "<rect width=\".93\" height=\".93\" x=\"6\" y=\"4\" fill=\"#666666\" />\n",
       "<rect width=\".93\" height=\".93\" x=\"7\" y=\"4\" fill=\"#666666\" />\n",
       "<rect width=\".93\" height=\".93\" x=\"8\" y=\"4\" fill=\"#666666\" />\n",
       "<rect width=\".93\" height=\".93\" x=\"9\" y=\"4\" fill=\"#666666\" />\n",
       "<rect width=\".93\" height=\".93\" x=\"10\" y=\"4\" fill=\"#666666\" />\n",
       "<rect width=\".93\" height=\".93\" x=\"0\" y=\"5\" fill=\"#808080\" />\n",
       "<rect width=\".93\" height=\".93\" x=\"1\" y=\"5\" fill=\"#808080\" />\n",
       "<rect width=\".93\" height=\".93\" x=\"2\" y=\"5\" fill=\"#808080\" />\n",
       "<rect width=\".93\" height=\".93\" x=\"3\" y=\"5\" fill=\"#808080\" />\n",
       "<rect width=\".93\" height=\".93\" x=\"4\" y=\"5\" fill=\"#808080\" />\n",
       "<rect width=\".93\" height=\".93\" x=\"5\" y=\"5\" fill=\"#808080\" />\n",
       "<rect width=\".93\" height=\".93\" x=\"6\" y=\"5\" fill=\"#808080\" />\n",
       "<rect width=\".93\" height=\".93\" x=\"7\" y=\"5\" fill=\"#808080\" />\n",
       "<rect width=\".93\" height=\".93\" x=\"8\" y=\"5\" fill=\"#808080\" />\n",
       "<rect width=\".93\" height=\".93\" x=\"9\" y=\"5\" fill=\"#808080\" />\n",
       "<rect width=\".93\" height=\".93\" x=\"10\" y=\"5\" fill=\"#808080\" />\n",
       "<rect width=\".93\" height=\".93\" x=\"0\" y=\"6\" fill=\"#999999\" />\n",
       "<rect width=\".93\" height=\".93\" x=\"1\" y=\"6\" fill=\"#999999\" />\n",
       "<rect width=\".93\" height=\".93\" x=\"2\" y=\"6\" fill=\"#999999\" />\n",
       "<rect width=\".93\" height=\".93\" x=\"3\" y=\"6\" fill=\"#999999\" />\n",
       "<rect width=\".93\" height=\".93\" x=\"4\" y=\"6\" fill=\"#999999\" />\n",
       "<rect width=\".93\" height=\".93\" x=\"5\" y=\"6\" fill=\"#999999\" />\n",
       "<rect width=\".93\" height=\".93\" x=\"6\" y=\"6\" fill=\"#999999\" />\n",
       "<rect width=\".93\" height=\".93\" x=\"7\" y=\"6\" fill=\"#999999\" />\n",
       "<rect width=\".93\" height=\".93\" x=\"8\" y=\"6\" fill=\"#999999\" />\n",
       "<rect width=\".93\" height=\".93\" x=\"9\" y=\"6\" fill=\"#999999\" />\n",
       "<rect width=\".93\" height=\".93\" x=\"10\" y=\"6\" fill=\"#999999\" />\n",
       "<rect width=\".93\" height=\".93\" x=\"0\" y=\"7\" fill=\"#B2B2B2\" />\n",
       "<rect width=\".93\" height=\".93\" x=\"1\" y=\"7\" fill=\"#B2B2B2\" />\n",
       "<rect width=\".93\" height=\".93\" x=\"2\" y=\"7\" fill=\"#B2B2B2\" />\n",
       "<rect width=\".93\" height=\".93\" x=\"3\" y=\"7\" fill=\"#B2B2B2\" />\n",
       "<rect width=\".93\" height=\".93\" x=\"4\" y=\"7\" fill=\"#B2B2B2\" />\n",
       "<rect width=\".93\" height=\".93\" x=\"5\" y=\"7\" fill=\"#B2B2B2\" />\n",
       "<rect width=\".93\" height=\".93\" x=\"6\" y=\"7\" fill=\"#B2B2B2\" />\n",
       "<rect width=\".93\" height=\".93\" x=\"7\" y=\"7\" fill=\"#B2B2B2\" />\n",
       "<rect width=\".93\" height=\".93\" x=\"8\" y=\"7\" fill=\"#B2B2B2\" />\n",
       "<rect width=\".93\" height=\".93\" x=\"9\" y=\"7\" fill=\"#B2B2B2\" />\n",
       "<rect width=\".93\" height=\".93\" x=\"10\" y=\"7\" fill=\"#B2B2B2\" />\n",
       "<rect width=\".93\" height=\".93\" x=\"0\" y=\"8\" fill=\"#CCCCCC\" />\n",
       "<rect width=\".93\" height=\".93\" x=\"1\" y=\"8\" fill=\"#CCCCCC\" />\n",
       "<rect width=\".93\" height=\".93\" x=\"2\" y=\"8\" fill=\"#CCCCCC\" />\n",
       "<rect width=\".93\" height=\".93\" x=\"3\" y=\"8\" fill=\"#CCCCCC\" />\n",
       "<rect width=\".93\" height=\".93\" x=\"4\" y=\"8\" fill=\"#CCCCCC\" />\n",
       "<rect width=\".93\" height=\".93\" x=\"5\" y=\"8\" fill=\"#CCCCCC\" />\n",
       "<rect width=\".93\" height=\".93\" x=\"6\" y=\"8\" fill=\"#CCCCCC\" />\n",
       "<rect width=\".93\" height=\".93\" x=\"7\" y=\"8\" fill=\"#CCCCCC\" />\n",
       "<rect width=\".93\" height=\".93\" x=\"8\" y=\"8\" fill=\"#CCCCCC\" />\n",
       "<rect width=\".93\" height=\".93\" x=\"9\" y=\"8\" fill=\"#CCCCCC\" />\n",
       "<rect width=\".93\" height=\".93\" x=\"10\" y=\"8\" fill=\"#CCCCCC\" />\n",
       "<rect width=\".93\" height=\".93\" x=\"0\" y=\"9\" fill=\"#E6E6E6\" />\n",
       "<rect width=\".93\" height=\".93\" x=\"1\" y=\"9\" fill=\"#E6E6E6\" />\n",
       "<rect width=\".93\" height=\".93\" x=\"2\" y=\"9\" fill=\"#E6E6E6\" />\n",
       "<rect width=\".93\" height=\".93\" x=\"3\" y=\"9\" fill=\"#E6E6E6\" />\n",
       "<rect width=\".93\" height=\".93\" x=\"4\" y=\"9\" fill=\"#E6E6E6\" />\n",
       "<rect width=\".93\" height=\".93\" x=\"5\" y=\"9\" fill=\"#E6E6E6\" />\n",
       "<rect width=\".93\" height=\".93\" x=\"6\" y=\"9\" fill=\"#E6E6E6\" />\n",
       "<rect width=\".93\" height=\".93\" x=\"7\" y=\"9\" fill=\"#E6E6E6\" />\n",
       "<rect width=\".93\" height=\".93\" x=\"8\" y=\"9\" fill=\"#E6E6E6\" />\n",
       "<rect width=\".93\" height=\".93\" x=\"9\" y=\"9\" fill=\"#E6E6E6\" />\n",
       "<rect width=\".93\" height=\".93\" x=\"10\" y=\"9\" fill=\"#E6E6E6\" />\n",
       "<rect width=\".93\" height=\".93\" x=\"0\" y=\"10\" fill=\"#FFFFFF\" />\n",
       "<rect width=\".93\" height=\".93\" x=\"1\" y=\"10\" fill=\"#FFFFFF\" />\n",
       "<rect width=\".93\" height=\".93\" x=\"2\" y=\"10\" fill=\"#FFFFFF\" />\n",
       "<rect width=\".93\" height=\".93\" x=\"3\" y=\"10\" fill=\"#FFFFFF\" />\n",
       "<rect width=\".93\" height=\".93\" x=\"4\" y=\"10\" fill=\"#FFFFFF\" />\n",
       "<rect width=\".93\" height=\".93\" x=\"5\" y=\"10\" fill=\"#FFFFFF\" />\n",
       "<rect width=\".93\" height=\".93\" x=\"6\" y=\"10\" fill=\"#FFFFFF\" />\n",
       "<rect width=\".93\" height=\".93\" x=\"7\" y=\"10\" fill=\"#FFFFFF\" />\n",
       "<rect width=\".93\" height=\".93\" x=\"8\" y=\"10\" fill=\"#FFFFFF\" />\n",
       "<rect width=\".93\" height=\".93\" x=\"9\" y=\"10\" fill=\"#FFFFFF\" />\n",
       "<rect width=\".93\" height=\".93\" x=\"10\" y=\"10\" fill=\"#FFFFFF\" />\n",
       "</svg>"
      ],
      "text/plain": [
       "11×11 Array{Gray{Float64},2} with eltype Gray{Float64}:\n",
       " Gray{Float64}(0.0)  Gray{Float64}(0.0)  …  Gray{Float64}(0.0)\n",
       " Gray{Float64}(0.1)  Gray{Float64}(0.1)     Gray{Float64}(0.1)\n",
       " Gray{Float64}(0.2)  Gray{Float64}(0.2)     Gray{Float64}(0.2)\n",
       " Gray{Float64}(0.3)  Gray{Float64}(0.3)     Gray{Float64}(0.3)\n",
       " Gray{Float64}(0.4)  Gray{Float64}(0.4)     Gray{Float64}(0.4)\n",
       " Gray{Float64}(0.5)  Gray{Float64}(0.5)  …  Gray{Float64}(0.5)\n",
       " Gray{Float64}(0.6)  Gray{Float64}(0.6)     Gray{Float64}(0.6)\n",
       " Gray{Float64}(0.7)  Gray{Float64}(0.7)     Gray{Float64}(0.7)\n",
       " Gray{Float64}(0.8)  Gray{Float64}(0.8)     Gray{Float64}(0.8)\n",
       " Gray{Float64}(0.9)  Gray{Float64}(0.9)     Gray{Float64}(0.9)\n",
       " Gray{Float64}(1.0)  Gray{Float64}(1.0)  …  Gray{Float64}(1.0)"
      ]
     },
     "execution_count": 46,
     "metadata": {},
     "output_type": "execute_result"
    }
   ],
   "source": [
    "using Colors: Gray\n",
    "\n",
    "Gray.(red.(C))"
   ]
  },
  {
   "cell_type": "markdown",
   "metadata": {
    "slideshow": {
     "slide_type": "subslide"
    }
   },
   "source": [
    "Julia's broadcasting provides guaranteed *loop fusion*. That means that if you do `Gray.(red.(x))`, the language guarantees that it will do only one loop over the elements of `x`, computing `Gray(red(x_i))` for each `x_i` in `x`. \n",
    "\n",
    "See https://julialang.org/blog/2017/01/moredots/ for more. "
   ]
  },
  {
   "cell_type": "markdown",
   "metadata": {
    "slideshow": {
     "slide_type": "slide"
    }
   },
   "source": [
    "# Julia is Fast"
   ]
  },
  {
   "cell_type": "code",
   "execution_count": 47,
   "metadata": {
    "slideshow": {
     "slide_type": "-"
    }
   },
   "outputs": [
    {
     "data": {
      "text/plain": [
       "my_sum"
      ]
     },
     "execution_count": 47,
     "metadata": {},
     "output_type": "execute_result"
    }
   ],
   "source": [
    "\"\"\"\n",
    "Naive implementation of sum. Works for any iterable `x` with any element type.\n",
    "\"\"\"\n",
    "function my_sum(x)\n",
    "    result = zero(eltype(x))\n",
    "    for element in x\n",
    "        result += element\n",
    "    end\n",
    "    return result\n",
    "end"
   ]
  },
  {
   "cell_type": "markdown",
   "metadata": {
    "slideshow": {
     "slide_type": "subslide"
    }
   },
   "source": [
    "And let's create some data to test with:"
   ]
  },
  {
   "cell_type": "code",
   "execution_count": 48,
   "metadata": {},
   "outputs": [
    {
     "data": {
      "text/plain": [
       "10000000-element Array{Float64,1}:\n",
       " 0.955874381165311\n",
       " 0.7892037691988727\n",
       " 0.8377818168443907\n",
       " 0.7596971505424572\n",
       " 0.855967834817577\n",
       " 0.7402470423768226\n",
       " 0.7138547046271644\n",
       " 0.8107907947811854\n",
       " 0.23968760717119464\n",
       " 0.7878905142400041\n",
       " 0.8327581914433315\n",
       " 0.9497955745851736\n",
       " 0.3322496962000745\n",
       " ⋮\n",
       " 0.9945901978036156\n",
       " 0.046206643676294235\n",
       " 0.44316343266757996\n",
       " 0.36863264965157394\n",
       " 0.29075831656643736\n",
       " 0.22479356031821895\n",
       " 0.5730577647462607\n",
       " 0.0390191937137796\n",
       " 0.9750027532248191\n",
       " 0.4754596118932033\n",
       " 0.2885563598851284\n",
       " 0.828817482017641"
      ]
     },
     "execution_count": 48,
     "metadata": {},
     "output_type": "execute_result"
    }
   ],
   "source": [
    "data = rand(Float64, 10^7)"
   ]
  },
  {
   "cell_type": "markdown",
   "metadata": {
    "slideshow": {
     "slide_type": "subslide"
    }
   },
   "source": [
    "To measure the performance of `my_sum`, we'll use the BenchmarkTools.jl package. "
   ]
  },
  {
   "cell_type": "code",
   "execution_count": 49,
   "metadata": {},
   "outputs": [],
   "source": [
    "using BenchmarkTools"
   ]
  },
  {
   "cell_type": "code",
   "execution_count": 50,
   "metadata": {
    "slideshow": {
     "slide_type": "fragment"
    }
   },
   "outputs": [
    {
     "data": {
      "text/plain": [
       "BenchmarkTools.Trial: \n",
       "  memory estimate:  0 bytes\n",
       "  allocs estimate:  0\n",
       "  --------------\n",
       "  minimum time:     9.177 ms (0.00% GC)\n",
       "  median time:      9.253 ms (0.00% GC)\n",
       "  mean time:        9.284 ms (0.00% GC)\n",
       "  maximum time:     10.532 ms (0.00% GC)\n",
       "  --------------\n",
       "  samples:          539\n",
       "  evals/sample:     1"
      ]
     },
     "execution_count": 50,
     "metadata": {},
     "output_type": "execute_result"
    }
   ],
   "source": [
    "@benchmark my_sum($data)"
   ]
  },
  {
   "cell_type": "markdown",
   "metadata": {
    "slideshow": {
     "slide_type": "fragment"
    }
   },
   "source": [
    "In this case, we only care about the minimum time. The `@btime` macro is a shorthand to print just that minimum time:"
   ]
  },
  {
   "cell_type": "code",
   "execution_count": 51,
   "metadata": {},
   "outputs": [
    {
     "name": "stdout",
     "output_type": "stream",
     "text": [
      "\t.text\n",
      "\tpushq\t%rbp\n",
      "\tmovq\t%rsp, %rbp\n",
      "\tmovq\t8(%rcx), %rax\n",
      "\ttestq\t%rax, %rax\n",
      "\tjle\tL63\n",
      "\tmovq\t(%rcx), %rcx\n",
      "\tvxorpd\t%xmm0, %xmm0, %xmm0\n",
      "\tvaddsd\t(%rcx), %xmm0, %xmm0\n",
      "\tcmpq\t$1, %rax\n",
      "\tje\tL61\n",
      "\tmovl\t$1, %edx\n",
      "\tnopw\t%cs:(%rax,%rax)\n",
      "\tnopl\t(%rax)\n",
      "L48:\n",
      "\tvaddsd\t(%rcx,%rdx,8), %xmm0, %xmm0\n",
      "\tincq\t%rdx\n",
      "\tcmpq\t%rax, %rdx\n",
      "\tjb\tL48\n",
      "L61:\n",
      "\tpopq\t%rbp\n",
      "\tretq\n",
      "L63:\n",
      "\tvxorps\t%xmm0, %xmm0, %xmm0\n",
      "\tpopq\t%rbp\n",
      "\tretq\n",
      "\tnopw\t%cs:(%rax,%rax)\n",
      "\tnop\n"
     ]
    }
   ],
   "source": [
    "@code_native debuginfo=:none my_sum(data)"
   ]
  },
  {
   "cell_type": "code",
   "execution_count": 52,
   "metadata": {
    "slideshow": {
     "slide_type": "fragment"
    }
   },
   "outputs": [
    {
     "name": "stdout",
     "output_type": "stream",
     "text": [
      "  3.529 ms (0 allocations: 0 bytes)\n"
     ]
    },
    {
     "data": {
      "text/plain": [
       "5.000389459111943e6"
      ]
     },
     "execution_count": 52,
     "metadata": {},
     "output_type": "execute_result"
    }
   ],
   "source": [
    "@btime sum($data)"
   ]
  },
  {
   "cell_type": "markdown",
   "metadata": {
    "slideshow": {
     "slide_type": "subslide"
    }
   },
   "source": [
    "What's going on? Is the `sum()` function using some built-in behavior we don't have access to?"
   ]
  },
  {
   "cell_type": "markdown",
   "metadata": {
    "slideshow": {
     "slide_type": "fragment"
    }
   },
   "source": [
    "Nope--we can achieve that result easily with a few modifications:"
   ]
  },
  {
   "cell_type": "code",
   "execution_count": 53,
   "metadata": {},
   "outputs": [
    {
     "data": {
      "text/plain": [
       "my_fast_sum (generic function with 1 method)"
      ]
     },
     "execution_count": 53,
     "metadata": {},
     "output_type": "execute_result"
    }
   ],
   "source": [
    "function my_fast_sum(x)\n",
    "    result = zero(eltype(x))\n",
    "    \n",
    "    # `@inbounds` is a macro which disables all bounds checking within a given block. \n",
    "    #\n",
    "    # `@simd` enables additional vector operations by indicating that it is OK to potentially\n",
    "    # evaluate the loop out-of-order. \n",
    "    @inbounds @simd for element in x\n",
    "        result += element\n",
    "    end\n",
    "    result\n",
    "end"
   ]
  },
  {
   "cell_type": "code",
   "execution_count": 54,
   "metadata": {
    "slideshow": {
     "slide_type": "subslide"
    }
   },
   "outputs": [
    {
     "name": "stdout",
     "output_type": "stream",
     "text": [
      "  3.526 ms (0 allocations: 0 bytes)\n"
     ]
    },
    {
     "data": {
      "text/plain": [
       "5.000389459111899e6"
      ]
     },
     "execution_count": 54,
     "metadata": {},
     "output_type": "execute_result"
    }
   ],
   "source": [
    "@btime my_fast_sum($data)"
   ]
  },
  {
   "cell_type": "code",
   "execution_count": 55,
   "metadata": {},
   "outputs": [
    {
     "name": "stdout",
     "output_type": "stream",
     "text": [
      "\t.text\n",
      "\tpushq\t%rbp\n",
      "\tmovq\t%rsp, %rbp\n",
      "\tmovq\t8(%rcx), %r8\n",
      "\ttestq\t%r8, %r8\n",
      "\tjle\tL33\n",
      "\tmovq\t(%rcx), %rcx\n",
      "\tcmpq\t$16, %r8\n",
      "\tjae\tL39\n",
      "\tvxorpd\t%xmm0, %xmm0, %xmm0\n",
      "\txorl\t%edx, %edx\n",
      "\tjmp\tL160\n",
      "L33:\n",
      "\tvxorps\t%xmm0, %xmm0, %xmm0\n",
      "\tpopq\t%rbp\n",
      "\tretq\n",
      "L39:\n",
      "\tmovl\t%r8d, %eax\n",
      "\tandl\t$15, %eax\n",
      "\tmovq\t%r8, %rdx\n",
      "\tsubq\t%rax, %rdx\n",
      "\tvxorpd\t%xmm0, %xmm0, %xmm0\n",
      "\txorl\t%eax, %eax\n",
      "\tvxorpd\t%xmm1, %xmm1, %xmm1\n",
      "\tvxorpd\t%xmm2, %xmm2, %xmm2\n",
      "\tvxorpd\t%xmm3, %xmm3, %xmm3\n",
      "\tnopw\t%cs:(%rax,%rax)\n",
      "\tnop\n",
      "L80:\n",
      "\tvaddpd\t(%rcx,%rax,8), %ymm0, %ymm0\n",
      "\tvaddpd\t32(%rcx,%rax,8), %ymm1, %ymm1\n",
      "\tvaddpd\t64(%rcx,%rax,8), %ymm2, %ymm2\n",
      "\tvaddpd\t96(%rcx,%rax,8), %ymm3, %ymm3\n",
      "\taddq\t$16, %rax\n",
      "\tcmpq\t%rax, %rdx\n",
      "\tjne\tL80\n",
      "\tvaddpd\t%ymm0, %ymm1, %ymm0\n",
      "\tvaddpd\t%ymm0, %ymm2, %ymm0\n",
      "\tvaddpd\t%ymm0, %ymm3, %ymm0\n",
      "\tvextractf128\t$1, %ymm0, %xmm1\n",
      "\tvaddpd\t%xmm1, %xmm0, %xmm0\n",
      "\tvpermilpd\t$1, %xmm0, %xmm1 # xmm1 = xmm0[1,0]\n",
      "\tvaddsd\t%xmm1, %xmm0, %xmm0\n",
      "\tcmpq\t%rdx, %r8\n",
      "\tje\tL173\n",
      "\tnopw\t%cs:(%rax,%rax)\n",
      "\tnop\n",
      "L160:\n",
      "\tvaddsd\t(%rcx,%rdx,8), %xmm0, %xmm0\n",
      "\tincq\t%rdx\n",
      "\tcmpq\t%rdx, %r8\n",
      "\tjne\tL160\n",
      "L173:\n",
      "\tpopq\t%rbp\n",
      "\tvzeroupper\n",
      "\tretq\n",
      "\tnopw\t%cs:(%rax,%rax)\n",
      "\tnopl\t(%rax)\n"
     ]
    }
   ],
   "source": [
    "@code_native debuginfo=:none my_fast_sum(data)"
   ]
  },
  {
   "cell_type": "markdown",
   "metadata": {
    "slideshow": {
     "slide_type": "subslide"
    }
   },
   "source": [
    "With some pretty simple changes, we were able to create a pure-Julia function which is twice as fast as our naive C function while still being clear and completely generic:"
   ]
  },
  {
   "cell_type": "code",
   "execution_count": 56,
   "metadata": {
    "slideshow": {
     "slide_type": "fragment"
    }
   },
   "outputs": [
    {
     "data": {
      "text/plain": [
       "6.641592653589793"
      ]
     },
     "execution_count": 56,
     "metadata": {},
     "output_type": "execute_result"
    }
   ],
   "source": [
    "my_fast_sum([1, 2.5, π])"
   ]
  },
  {
   "cell_type": "markdown",
   "metadata": {
    "slideshow": {
     "slide_type": "subslide"
    }
   },
   "source": [
    "### What about Numpy or Cython?\n",
    "\n",
    "* There are faster ways to sum a vector of `double`s in Python than a `for` loop. \n",
    "* `numpy.sum()` is just as fast as Julia's `sum()` for large vectors...\n",
    "* ...but there are some caveats:\n",
    "  * NumPy is only efficient for a pre-determined set of numeric types. \n",
    "  * NumPy cannot be extended without switching into an entirely different programming language, build system, and code environment. \n",
    "  * So, if `numpy.sum()` happens to cover the cases you actually need, then go for it!\n",
    "  * But if you want to be able to write efficient code that does not happen to cover the specific set of functions and types in NumPy, then you need Julia. "
   ]
  },
  {
   "cell_type": "code",
   "execution_count": 57,
   "metadata": {
    "slideshow": {
     "slide_type": "subslide"
    }
   },
   "outputs": [],
   "source": [
    "struct Point{T}\n",
    "    x::T\n",
    "    y::T\n",
    "end\n",
    "\n",
    "function Base.zero(::Type{Point{T}}) where {T} \n",
    "    Point{T}(zero(T), zero(T))\n",
    "end\n",
    "    \n",
    "Base.:+(p1::Point, p2::Point) = Point(p1.x + p2.x, p1.y + p2.y)\n",
    "\n",
    "points = [Point(rand(), rand()) for _ in 1:10^7];"
   ]
  },
  {
   "cell_type": "code",
   "execution_count": 58,
   "metadata": {
    "slideshow": {
     "slide_type": "fragment"
    }
   },
   "outputs": [
    {
     "name": "stdout",
     "output_type": "stream",
     "text": [
      "  6.905 ms (0 allocations: 0 bytes)\n"
     ]
    },
    {
     "data": {
      "text/plain": [
       "Point{Float64}(5.000524400895821e6, 4.99940286074312e6)"
      ]
     },
     "execution_count": 58,
     "metadata": {},
     "output_type": "execute_result"
    }
   ],
   "source": [
    "@btime my_fast_sum($points)"
   ]
  },
  {
   "cell_type": "markdown",
   "metadata": {
    "slideshow": {
     "slide_type": "slide"
    }
   },
   "source": [
    "# Bonus Features of Julia"
   ]
  },
  {
   "cell_type": "markdown",
   "metadata": {
    "slideshow": {
     "slide_type": "subslide"
    }
   },
   "source": [
    "## Asynchronous Tasks\n",
    "\n",
    "Julia supports asynchronous cooperative tasks, with `libuv` providing the backend. These tasks are great for handling operations like IO or network requests:"
   ]
  },
  {
   "cell_type": "code",
   "execution_count": 59,
   "metadata": {
    "slideshow": {
     "slide_type": "fragment"
    }
   },
   "outputs": [
    {
     "name": "stderr",
     "output_type": "stream",
     "text": [
      "\u001b[32m\u001b[1m  Resolving\u001b[22m\u001b[39m package versions...\n",
      "\u001b[32m\u001b[1mNo Changes\u001b[22m\u001b[39m to `C:\\projects\\julia-intro2\\Project.toml`\n",
      "\u001b[32m\u001b[1mNo Changes\u001b[22m\u001b[39m to `C:\\projects\\julia-intro2\\Manifest.toml`\n"
     ]
    }
   ],
   "source": [
    "using Pkg;Pkg.add(\"HTTP\")\n",
    "using HTTP: request"
   ]
  },
  {
   "cell_type": "code",
   "execution_count": 60,
   "metadata": {},
   "outputs": [
    {
     "name": "stdout",
     "output_type": "stream",
     "text": [
      "starting request 1\n",
      "starting request 2"
     ]
    }
   ],
   "source": [
    "for i in 1:5\n",
    "    @async begin\n",
    "        println(\"starting request $i\")\n",
    "        r = request(\"GET\", \"https://jsonplaceholder.typicode.com/posts/$i\")\n",
    "        println(\"got response $i with status $(r.status)\")\n",
    "    end\n",
    "end\n",
    "        "
   ]
  },
  {
   "cell_type": "markdown",
   "metadata": {
    "slideshow": {
     "slide_type": "subslide"
    }
   },
   "source": [
    "## Multi-Threading\n",
    "\n",
    "\n",
    "Julia also supports parallel and distributed computing (see https://docs.julialang.org/en/v1/manual/parallel-computing/ for more). In addition, Julia 1.3 implemented a new feature, the Parallel Task Run-Time (PATR), which allows for *composable* multi-threading. It is now possible for a parallelized Julia function to call other parallelized code without over-subsubscribing the available processors. See \n",
    "https://julialang.org/blog/2019/07/multithreading/ for more. "
   ]
  },
  {
   "cell_type": "code",
   "execution_count": 61,
   "metadata": {
    "slideshow": {
     "slide_type": "fragment"
    }
   },
   "outputs": [
    {
     "name": "stdout",
     "output_type": "stream",
     "text": [
      "\n"
     ]
    },
    {
     "data": {
      "text/plain": [
       "fib (generic function with 1 method)"
      ]
     },
     "execution_count": 61,
     "metadata": {},
     "output_type": "execute_result"
    },
    {
     "name": "stdout",
     "output_type": "stream",
     "text": [
      "starting request 3\n",
      "starting request 4\n",
      "starting request 5"
     ]
    }
   ],
   "source": [
    "using Base.Threads: @spawn\n",
    "\n",
    "\n",
    "function fib(n::Int)\n",
    "    if n < 2\n",
    "        return n\n",
    "    end\n",
    "    # `@spawn` creates a new parallel task. Tasks are lightweight and can be\n",
    "    # created at will. The Julia Parallel Task Run-Time handles scheduling the\n",
    "    # tasks to native threads in a depth first manner. That means that you can\n",
    "    # write parallel code which calls other parallel code without over-subscribing\n",
    "    # your available processors. \n",
    "    t = @spawn fib(n - 2)\n",
    "    return fib(n - 1) + fetch(t)\n",
    "end "
   ]
  },
  {
   "cell_type": "code",
   "execution_count": 62,
   "metadata": {},
   "outputs": [
    {
     "name": "stdout",
     "output_type": "stream",
     "text": [
      "\n"
     ]
    },
    {
     "data": {
      "text/plain": [
       "55"
      ]
     },
     "execution_count": 62,
     "metadata": {},
     "output_type": "execute_result"
    }
   ],
   "source": [
    "fib(10)"
   ]
  },
  {
   "cell_type": "markdown",
   "metadata": {
    "slideshow": {
     "slide_type": "subslide"
    }
   },
   "source": [
    "## Anything Can Be a Value\n",
    "\n",
    "Julia has no special rules about what can or cannot be assigned to a variable or passed to a function. "
   ]
  },
  {
   "cell_type": "markdown",
   "metadata": {
    "slideshow": {
     "slide_type": "subslide"
    }
   },
   "source": [
    "### Functions are Values\n",
    "\n",
    "A Julia function is a value like any other, so passing functions around and implementing higher-order functions is trivial:"
   ]
  },
  {
   "cell_type": "code",
   "execution_count": 63,
   "metadata": {
    "slideshow": {
     "slide_type": "fragment"
    }
   },
   "outputs": [
    {
     "data": {
      "text/plain": [
       "map_reduce"
      ]
     },
     "execution_count": 63,
     "metadata": {},
     "output_type": "execute_result"
    }
   ],
   "source": [
    "\"\"\"\n",
    "map_reduce: apply `operator` to each element in `array` and reduce pairwise via `reduction`\n",
    "\"\"\"\n",
    "function map_reduce(operator, reduction, array, initial_value)\n",
    "    result = initial_value\n",
    "    for item in array\n",
    "        result = reduction(result, operator(item))\n",
    "    end\n",
    "    result\n",
    "end"
   ]
  },
  {
   "cell_type": "code",
   "execution_count": 64,
   "metadata": {
    "slideshow": {
     "slide_type": "fragment"
    }
   },
   "outputs": [
    {
     "data": {
      "text/plain": [
       "1.1350859243855171"
      ]
     },
     "execution_count": 64,
     "metadata": {},
     "output_type": "execute_result"
    }
   ],
   "source": [
    "map_reduce(sin, +, [1, 2, 3, 4], 0)"
   ]
  },
  {
   "cell_type": "markdown",
   "metadata": {
    "slideshow": {
     "slide_type": "subslide"
    }
   },
   "source": [
    "We can define `sum` in terms of `map_reduce`:"
   ]
  },
  {
   "cell_type": "code",
   "execution_count": 65,
   "metadata": {
    "slideshow": {
     "slide_type": "-"
    }
   },
   "outputs": [
    {
     "data": {
      "text/plain": [
       "fancy_sum (generic function with 1 method)"
      ]
     },
     "execution_count": 65,
     "metadata": {},
     "output_type": "execute_result"
    }
   ],
   "source": [
    "fancy_sum(x) = map_reduce(identity, +, x, zero(eltype(x)))"
   ]
  },
  {
   "cell_type": "markdown",
   "metadata": {
    "slideshow": {
     "slide_type": "fragment"
    }
   },
   "source": [
    "The performance is just as good as our hand-written `sum` loop:"
   ]
  },
  {
   "cell_type": "markdown",
   "metadata": {},
   "source": [
    "To get all the way down to 5ms, we'd need to apply the same `@inbounds` and `@simd` annotations.  "
   ]
  },
  {
   "cell_type": "markdown",
   "metadata": {
    "slideshow": {
     "slide_type": "subslide"
    }
   },
   "source": [
    "### Types are Values\n",
    "\n",
    "Types can also be passed around as values and bound to variables with no special rules. This makes implementing factories or constructors easy:"
   ]
  },
  {
   "cell_type": "code",
   "execution_count": 66,
   "metadata": {
    "slideshow": {
     "slide_type": "fragment"
    }
   },
   "outputs": [
    {
     "data": {
      "text/plain": [
       "empty_matrix (generic function with 1 method)"
      ]
     },
     "execution_count": 66,
     "metadata": {},
     "output_type": "execute_result"
    }
   ],
   "source": [
    "function empty_matrix(T::Type, rows::Integer, cols::Integer)\n",
    "    zeros(T, rows, cols)\n",
    "end"
   ]
  },
  {
   "cell_type": "code",
   "execution_count": 67,
   "metadata": {
    "slideshow": {
     "slide_type": "fragment"
    }
   },
   "outputs": [
    {
     "data": {
      "text/plain": [
       "3×3 Array{Int64,2}:\n",
       " 0  0  0\n",
       " 0  0  0\n",
       " 0  0  0"
      ]
     },
     "execution_count": 67,
     "metadata": {},
     "output_type": "execute_result"
    }
   ],
   "source": [
    "empty_matrix(Int, 3, 3)"
   ]
  },
  {
   "cell_type": "code",
   "execution_count": 68,
   "metadata": {
    "slideshow": {
     "slide_type": "fragment"
    }
   },
   "outputs": [
    {
     "data": {
      "text/plain": [
       "3×3 Array{Point{Float64},2}:\n",
       " Point{Float64}(0.0, 0.0)  Point{Float64}(0.0, 0.0)  Point{Float64}(0.0, 0.0)\n",
       " Point{Float64}(0.0, 0.0)  Point{Float64}(0.0, 0.0)  Point{Float64}(0.0, 0.0)\n",
       " Point{Float64}(0.0, 0.0)  Point{Float64}(0.0, 0.0)  Point{Float64}(0.0, 0.0)"
      ]
     },
     "execution_count": 68,
     "metadata": {},
     "output_type": "execute_result"
    }
   ],
   "source": [
    "empty_matrix(Point{Float64}, 3, 3)"
   ]
  },
  {
   "cell_type": "markdown",
   "metadata": {
    "slideshow": {
     "slide_type": "subslide"
    }
   },
   "source": [
    "### Expressions are Values\n",
    "\n",
    "Even the expressions that representing Julia code are represented as values in Julia. You can create an expression with the `:()` operator, and you can inspect it just like any other object. "
   ]
  },
  {
   "cell_type": "code",
   "execution_count": 69,
   "metadata": {
    "slideshow": {
     "slide_type": "-"
    }
   },
   "outputs": [
    {
     "data": {
      "text/plain": [
       ":(1 + 2)"
      ]
     },
     "execution_count": 69,
     "metadata": {},
     "output_type": "execute_result"
    }
   ],
   "source": [
    "expr = :(1 + 2)"
   ]
  },
  {
   "cell_type": "markdown",
   "metadata": {
    "slideshow": {
     "slide_type": "fragment"
    }
   },
   "source": [
    "An expression has a `head` indicating what type of expression it is and zero or more `args`:"
   ]
  },
  {
   "cell_type": "code",
   "execution_count": 70,
   "metadata": {
    "slideshow": {
     "slide_type": "-"
    }
   },
   "outputs": [
    {
     "data": {
      "text/plain": [
       ":call"
      ]
     },
     "execution_count": 70,
     "metadata": {},
     "output_type": "execute_result"
    }
   ],
   "source": [
    "expr.head"
   ]
  },
  {
   "cell_type": "code",
   "execution_count": 71,
   "metadata": {
    "slideshow": {
     "slide_type": "-"
    }
   },
   "outputs": [
    {
     "data": {
      "text/plain": [
       "3-element Array{Any,1}:\n",
       "  :+\n",
       " 1\n",
       " 2"
      ]
     },
     "execution_count": 71,
     "metadata": {},
     "output_type": "execute_result"
    }
   ],
   "source": [
    "expr.args"
   ]
  },
  {
   "cell_type": "markdown",
   "metadata": {
    "slideshow": {
     "slide_type": "subslide"
    }
   },
   "source": [
    "## Metaprogramming\n",
    "\n",
    "Since expressions are just values, we can easily write functions to manipulate them:"
   ]
  },
  {
   "cell_type": "code",
   "execution_count": 72,
   "metadata": {
    "slideshow": {
     "slide_type": "fragment"
    }
   },
   "outputs": [
    {
     "data": {
      "text/plain": [
       "switch_to_subtraction!"
      ]
     },
     "execution_count": 72,
     "metadata": {},
     "output_type": "execute_result"
    }
   ],
   "source": [
    "switch_to_subtraction!(x::Any) = nothing\n",
    "\n",
    "\"\"\"\n",
    "Change all `+` function calls to `-` function calls. \n",
    "\n",
    "<sarcasm>\n",
    "Great for fixing sign errors in your code!\n",
    "</sarcasm>\n",
    "\"\"\"\n",
    "function switch_to_subtraction!(ex::Expr)\n",
    "    if ex.head == :call && ex.args[1] == :(+)\n",
    "        ex.args[1] = :(-)\n",
    "    end\n",
    "    for i in 2:length(ex.args)\n",
    "        switch_to_subtraction!(ex.args[i])\n",
    "    end\n",
    "end"
   ]
  },
  {
   "cell_type": "code",
   "execution_count": 73,
   "metadata": {
    "slideshow": {
     "slide_type": "subslide"
    }
   },
   "outputs": [
    {
     "data": {
      "text/plain": [
       ":((1 + 2) * (3 + 4) * sqrt(2))"
      ]
     },
     "execution_count": 73,
     "metadata": {},
     "output_type": "execute_result"
    }
   ],
   "source": [
    "expr = :((1 + 2) * (3 + 4) * sqrt(2))"
   ]
  },
  {
   "cell_type": "code",
   "execution_count": 74,
   "metadata": {
    "slideshow": {
     "slide_type": "fragment"
    }
   },
   "outputs": [
    {
     "data": {
      "text/plain": [
       ":((1 - 2) * (3 - 4) * sqrt(2))"
      ]
     },
     "execution_count": 74,
     "metadata": {},
     "output_type": "execute_result"
    }
   ],
   "source": [
    "switch_to_subtraction!(expr)\n",
    "\n",
    "expr"
   ]
  },
  {
   "cell_type": "markdown",
   "metadata": {
    "slideshow": {
     "slide_type": "subslide"
    }
   },
   "source": [
    "### Macros\n",
    "\n",
    "A macro is written just like a normal Julia function. The difference is that a macro operates on the *expression* itself, not on its value:"
   ]
  },
  {
   "cell_type": "code",
   "execution_count": 75,
   "metadata": {
    "slideshow": {
     "slide_type": "fragment"
    }
   },
   "outputs": [
    {
     "data": {
      "text/plain": [
       "@more_cats"
      ]
     },
     "execution_count": 75,
     "metadata": {},
     "output_type": "execute_result"
    }
   ],
   "source": [
    "\"\"\"\n",
    "Modify a given expression, replacing all string literals with \"cat\"\n",
    "\"\"\"\n",
    "macro more_cats(expr)\n",
    "    for i in eachindex(expr.args)\n",
    "        if expr.args[i] isa String\n",
    "            expr.args[i] = \"cat\"\n",
    "        end\n",
    "    end\n",
    "    return esc(expr)\n",
    "end"
   ]
  },
  {
   "cell_type": "markdown",
   "metadata": {
    "slideshow": {
     "slide_type": "fragment"
    }
   },
   "source": [
    "Macros are always called with the `@` prefix in Julia:"
   ]
  },
  {
   "cell_type": "code",
   "execution_count": 76,
   "metadata": {},
   "outputs": [
    {
     "name": "stdout",
     "output_type": "stream",
     "text": [
      "cat\n"
     ]
    }
   ],
   "source": [
    "@more_cats println(\"hello world\")"
   ]
  },
  {
   "cell_type": "markdown",
   "metadata": {
    "slideshow": {
     "slide_type": "subslide"
    }
   },
   "source": [
    "`@macroexpand` shows the code that another macro will generate:"
   ]
  },
  {
   "cell_type": "code",
   "execution_count": 77,
   "metadata": {
    "slideshow": {
     "slide_type": "-"
    }
   },
   "outputs": [
    {
     "data": {
      "text/plain": [
       ":(println(\"cat\"))"
      ]
     },
     "execution_count": 77,
     "metadata": {},
     "output_type": "execute_result"
    },
    {
     "name": "stdout",
     "output_type": "stream",
     "text": [
      "got response 1 with status 200\n",
      "got response 2 with status 200\n",
      "got response 3 with status 200\n",
      "got response 4 with status 200\n",
      "got response 5 with status 200\n"
     ]
    }
   ],
   "source": [
    "@macroexpand @more_cats println(\"hello world\")"
   ]
  },
  {
   "cell_type": "markdown",
   "metadata": {
    "slideshow": {
     "slide_type": "slide"
    }
   },
   "source": [
    "# What's Hard to Do in Julia?\n",
    "\n",
    "What is the compiler team working on making better? https://discourse.julialang.org/t/compiler-work-priorities/17623\n",
    "\n",
    "What are some subtle problems that the Julia team would like to fix?\n",
    "\n",
    "[![What's bad about Julia talk](img/bad_about_julia.png)](https://www.youtube.com/watch?v=TPuJsgyu87U)\n",
    "\n"
   ]
  },
  {
   "cell_type": "markdown",
   "metadata": {
    "slideshow": {
     "slide_type": "subslide"
    }
   },
   "source": [
    "## Compiler Latency\n",
    "\n",
    "* The JIT compiler runs each time it sees a function being called with a new input type. \n",
    "* That makes the first call to every function slow, since you have to wait for the JIT.\n",
    "  * This makes Julia awkward to use for things like shell scripts or AWS lambda"
   ]
  },
  {
   "cell_type": "markdown",
   "metadata": {
    "slideshow": {
     "slide_type": "subslide"
    }
   },
   "source": [
    "## Static Compilation\n",
    "\n",
    "* To avoid the JIT lag, you can compile a Julia package to a standalone executable using [PackageCompiler.jl](https://github.com/JuliaLang/PackageCompiler.jl), but:\n",
    "    * This workflow is pretty new, and you may run into interesting bugs\n",
    "    * The resulting libraries tend to be quite large"
   ]
  },
  {
   "cell_type": "markdown",
   "metadata": {
    "slideshow": {
     "slide_type": "subslide"
    }
   },
   "source": [
    "## Embedded Computing\n",
    "\n",
    "* It can be hard to run Julia on memory-limited systems, since you need the compiler living alongside your code. \n",
    "* Static compilation can help, but this isn't a well-developed workflow yet."
   ]
  },
  {
   "cell_type": "markdown",
   "metadata": {
    "slideshow": {
     "slide_type": "subslide"
    }
   },
   "source": [
    "## Static Analysis\n",
    "\n",
    "* There are some linting tools for Julia (like the `vscode-julia` extension for Visual Studio Code), but they are not as mature as languages like Python, C, Java, etc.\n",
    "* Static analysis of Julia is harder, since the language itself is dynamically typed. \n",
    "  * To be fair, static analysis of C++ is [undecidable](https://blog.reverberate.org/2013/08/parsing-c-is-literally-undecidable.html) but we still have tools that do a pretty good job most of the time. "
   ]
  },
  {
   "cell_type": "markdown",
   "metadata": {
    "slideshow": {
     "slide_type": "slide"
    }
   },
   "source": [
    "# Useful Julia Tools"
   ]
  },
  {
   "cell_type": "markdown",
   "metadata": {
    "slideshow": {
     "slide_type": "subslide"
    }
   },
   "source": [
    "## Juno IDE\n",
    "\n",
    "https://junolab.org/\n",
    "\n",
    "* Built-in debugger and profiler support\n",
    "* Inline evaluation of expressions\n",
    "* Docstring lookup and autocomplete\n",
    "\n",
    "\n",
    "<img src=\"img/juno.png\" width=\"700px\"></img>"
   ]
  },
  {
   "cell_type": "markdown",
   "metadata": {
    "slideshow": {
     "slide_type": "subslide"
    }
   },
   "source": [
    "## Julia-VSCode\n",
    "\n",
    "https://github.com/julia-vscode/julia-vscode\n",
    "\n",
    "* Code highlighting, snippets, linting, and completions\n",
    "* Integrated plot and table viewers\n",
    "* General extension support via the VSCode language server\n",
    "\n",
    "<img src=\"img/vscode.png\" width=\"700px\"></img>"
   ]
  },
  {
   "cell_type": "markdown",
   "metadata": {
    "slideshow": {
     "slide_type": "subslide"
    }
   },
   "source": [
    "## Flux.jl\n",
    "\n",
    "https://fluxml.ai/Flux.jl/stable/\n",
    "\n",
    "* Flexible library for machine learning built entirely in Julia\n",
    "* Feed-forward and recurrent neural nets\n",
    "* Gradients via automatic differentiation\n",
    "* GPU support via CuArrays.jl\n",
    "\n",
    "```julia\n",
    "m = Chain(\n",
    "  Dense(784, 32, σ),\n",
    "  Dense(32, 10), softmax\n",
    ")\n",
    "\n",
    "loss(x, y) = Flux.mse(m(x), y)\n",
    "ps = Flux.params(m)\n",
    "\n",
    "for i in 1:num_training_iters\n",
    "    Flux.train!(loss, ps, data, opt)\n",
    "end\n",
    "```"
   ]
  },
  {
   "cell_type": "markdown",
   "metadata": {
    "slideshow": {
     "slide_type": "subslide"
    }
   },
   "source": [
    "## DifferentialEquations.jl\n",
    "\n",
    "https://github.com/SciML/DifferentialEquations.jl\n",
    "\n",
    "* {stochastic | deterministic | ordinary | partial} differential equations\n",
    "* Automatic differentiation and sparsity detection\n",
    "* GPU support\n",
    "* Sensitivity analysis and parameter estimation\n",
    "* Access to pure-Julia solvers and existing C and Fortran solvers\n",
    "\n",
    "\n",
    "<img src=\"img/DifferentialEquations_Example.png\" width=\"500px\"></img>"
   ]
  },
  {
   "cell_type": "markdown",
   "metadata": {
    "slideshow": {
     "slide_type": "subslide"
    }
   },
   "source": [
    "## DataFrames.jl\n",
    "\n",
    "https://github.com/JuliaData/DataFrames.jl\n",
    "\n",
    "* In-memory tabular data\n",
    "* Joining, indexing, grouping, and split-apply-combine\n",
    "\n",
    "```julia\n",
    "julia> using DataFrames\n",
    "\n",
    "julia> df = DataFrame(A = 1:4, B = [\"M\", \"F\", \"F\", \"M\"])\n",
    "4×2 DataFrame\n",
    "│ Row │ A     │ B      │\n",
    "│     │ Int64 │ String │\n",
    "├─────┼───────┼────────┤\n",
    "│ 1   │ 1     │ M      │\n",
    "│ 2   │ 2     │ F      │\n",
    "│ 3   │ 3     │ F      │\n",
    "│ 4   │ 4     │ M      │\n",
    "```"
   ]
  },
  {
   "cell_type": "markdown",
   "metadata": {
    "slideshow": {
     "slide_type": "subslide"
    }
   },
   "source": [
    "## JuMP.jl\n",
    "\n",
    "https://github.com/JuliaOpt/JuMP.jl\n",
    "\n",
    "* Continuous and discrete optimization\n",
    "* Support for a wide variety of free and commercial solvers\n",
    "* Efficient high-level language for mathematical programming\n",
    "\n",
    "\n",
    "Example: Solving a simple model-predictive control problem as a quadratic program ([source](https://github.com/rdeits/DynamicWalking2018.jl/blob/master/notebooks/6.%20Optimization%20with%20JuMP.ipynb)):\n",
    "\n",
    "[![demo of a simple model-predictive control problem](img/mpc.gif)](https://github.com/rdeits/DynamicWalking2018.jl/blob/master/notebooks/6.%20Optimization%20with%20JuMP.ipynb)\n",
    "\n"
   ]
  },
  {
   "cell_type": "markdown",
   "metadata": {
    "slideshow": {
     "slide_type": "subslide"
    }
   },
   "source": [
    "### Cassette.jl\n",
    "\n",
    "https://www.youtube.com/watch?v=_E2zEzNEy-8\n",
    "\n",
    "\"Overdub\" Julia code: \n",
    "\n",
    "* Hook into the compiler to dynamically modify the behavior of existing functions in a given *context*\n",
    "* Building block for debuggers, automatic differentation, and more.\n",
    "\n",
    "<img src=\"img/cassette-logo.png\" width=\"600px\"/>"
   ]
  },
  {
   "cell_type": "markdown",
   "metadata": {
    "slideshow": {
     "slide_type": "slide"
    }
   },
   "source": [
    "# Where To Go Next?\n",
    "\n",
    "* Download Julia from https://julialang.org/\n",
    "* Check out the manual at https://docs.julialang.org/en/v1/\n",
    "* Ask questions on [discourse](https://discourse.julialang.org/) and [slack](https://slackinvite.julialang.org/)\n",
    "* Find interesting packages on [juliahub](https://juliahub.com/ui/Home)\n",
    "\n",
    "![triangulated background](img/julia-triangle-background.svg)\n",
    "\n",
    "[Logo by Cormullion and David P. Saunders](https://nbviewer.jupyter.org/github/dpsanders/JuliaCon2019_tshirt/blob/master/penroseiana.ipynb)"
   ]
  }
 ],
 "metadata": {
  "@webio": {
   "lastCommId": null,
   "lastKernelId": null
  },
  "celltoolbar": "Slideshow",
  "kernelspec": {
   "display_name": "Julia 1.5.3",
   "language": "julia",
   "name": "julia-1.5"
  },
  "language_info": {
   "file_extension": ".jl",
   "mimetype": "application/julia",
   "name": "julia",
   "version": "1.5.3"
  }
 },
 "nbformat": 4,
 "nbformat_minor": 4
}
